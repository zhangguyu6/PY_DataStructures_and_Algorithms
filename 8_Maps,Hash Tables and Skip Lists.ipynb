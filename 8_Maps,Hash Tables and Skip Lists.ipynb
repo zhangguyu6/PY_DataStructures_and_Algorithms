{
 "cells": [
  {
   "cell_type": "markdown",
   "metadata": {
    "deletable": true,
    "editable": true
   },
   "source": [
    "### Maps,Hash Tables and Skip Lists\n",
    "#### 定义:\n",
    "It represents an abstraction known as a dictionary in which unique keys are mapped to associated values."
   ]
  },
  {
   "cell_type": "markdown",
   "metadata": {
    "deletable": true,
    "editable": true
   },
   "source": [
    "#### 抽象数据结构\n",
    "base\n",
    "* M[k] 查找\n",
    "* M[k]=v 增加\n",
    "* del M[k] 删除\n",
    "* len(M)   返回items数量\n",
    "* iter(M)  迭代\n",
    "\n",
    "addition\n",
    "* k in M    包含\n",
    "* M.get(k,d=None) 默认get\n",
    "* M.setdefault(K,d) 默认set\n",
    "* M.pop(k,d=None) 默认去除\n",
    "* M.popitem() 去除并返回键值对\n",
    "* M.keys()\n",
    "* M.values()\n",
    "* M.items()\n",
    "* M.update(M2) 字典合并\n",
    "* M=M2\n",
    "* M!=M2\n",
    "##### 我们将要实现的字典类型\n",
    "![Screenshot from 2017-04-05 09-58-40.png](https://ooo.0o0.ooo/2017/04/05/58e44f6888401.png)"
   ]
  },
  {
   "cell_type": "code",
   "execution_count": 2,
   "metadata": {
    "collapsed": true,
    "deletable": true,
    "editable": true
   },
   "outputs": [],
   "source": [
    "#我们的基础字典,借用python的字典抽象类\n",
    "from collections.abc import MutableMapping\n",
    "class MapBase(MutableMapping):\n",
    "    class _Item:\n",
    "        __slot__=\"_key\",\"_value\"\n",
    "        def __init__(self,k,v):\n",
    "            self._key=k\n",
    "            self._value=v\n",
    "            \n",
    "        def __eq__(self,other):\n",
    "            return self._key==other._key\n",
    "        \n",
    "        def __ne__(self,other):\n",
    "            return not (self==other)\n",
    "        \n",
    "        def __lt__(self,other):\n",
    "            return self._key<other._key"
   ]
  },
  {
   "cell_type": "markdown",
   "metadata": {
    "deletable": true,
    "editable": true
   },
   "source": [
    "##### 无序字典"
   ]
  },
  {
   "cell_type": "code",
   "execution_count": 7,
   "metadata": {
    "collapsed": false,
    "deletable": true,
    "editable": true
   },
   "outputs": [
    {
     "name": "stdout",
     "output_type": "stream",
     "text": [
      "1\n",
      "2\n"
     ]
    },
    {
     "ename": "KeyError",
     "evalue": "'Key Error:a'",
     "output_type": "error",
     "traceback": [
      "\u001b[0;31m---------------------------------------------------------------------------\u001b[0m",
      "\u001b[0;31mKeyError\u001b[0m                                  Traceback (most recent call last)",
      "\u001b[0;32m<ipython-input-7-5c5761ca6023>\u001b[0m in \u001b[0;36m<module>\u001b[0;34m()\u001b[0m\n\u001b[1;32m     35\u001b[0m \u001b[0mprint\u001b[0m\u001b[0;34m(\u001b[0m\u001b[0ma\u001b[0m\u001b[0;34m[\u001b[0m\u001b[0;34m\"a\"\u001b[0m\u001b[0;34m]\u001b[0m\u001b[0;34m)\u001b[0m\u001b[0;34m\u001b[0m\u001b[0m\n\u001b[1;32m     36\u001b[0m \u001b[0;32mdel\u001b[0m \u001b[0ma\u001b[0m\u001b[0;34m[\u001b[0m\u001b[0;34m\"a\"\u001b[0m\u001b[0;34m]\u001b[0m\u001b[0;34m\u001b[0m\u001b[0m\n\u001b[0;32m---> 37\u001b[0;31m \u001b[0mprint\u001b[0m\u001b[0;34m(\u001b[0m\u001b[0ma\u001b[0m\u001b[0;34m[\u001b[0m\u001b[0;34m\"a\"\u001b[0m\u001b[0;34m]\u001b[0m\u001b[0;34m)\u001b[0m\u001b[0;34m\u001b[0m\u001b[0m\n\u001b[0m",
      "\u001b[0;32m<ipython-input-7-5c5761ca6023>\u001b[0m in \u001b[0;36m__getitem__\u001b[0;34m(self, k)\u001b[0m\n\u001b[1;32m      7\u001b[0m             \u001b[0;32mif\u001b[0m \u001b[0mk\u001b[0m\u001b[0;34m==\u001b[0m\u001b[0mitem\u001b[0m\u001b[0;34m.\u001b[0m\u001b[0m_key\u001b[0m\u001b[0;34m:\u001b[0m\u001b[0;34m\u001b[0m\u001b[0m\n\u001b[1;32m      8\u001b[0m                 \u001b[0;32mreturn\u001b[0m \u001b[0mitem\u001b[0m\u001b[0;34m.\u001b[0m\u001b[0m_value\u001b[0m\u001b[0;34m\u001b[0m\u001b[0m\n\u001b[0;32m----> 9\u001b[0;31m         \u001b[0;32mraise\u001b[0m \u001b[0mKeyError\u001b[0m\u001b[0;34m(\u001b[0m\u001b[0;34m\"Key Error:{}\"\u001b[0m\u001b[0;34m.\u001b[0m\u001b[0mformat\u001b[0m\u001b[0;34m(\u001b[0m\u001b[0mk\u001b[0m\u001b[0;34m)\u001b[0m\u001b[0;34m)\u001b[0m\u001b[0;34m\u001b[0m\u001b[0m\n\u001b[0m\u001b[1;32m     10\u001b[0m \u001b[0;34m\u001b[0m\u001b[0m\n\u001b[1;32m     11\u001b[0m     \u001b[0;32mdef\u001b[0m \u001b[0m__setitem__\u001b[0m\u001b[0;34m(\u001b[0m\u001b[0mself\u001b[0m\u001b[0;34m,\u001b[0m\u001b[0mk\u001b[0m\u001b[0;34m,\u001b[0m\u001b[0mv\u001b[0m\u001b[0;34m)\u001b[0m\u001b[0;34m:\u001b[0m\u001b[0;34m\u001b[0m\u001b[0m\n",
      "\u001b[0;31mKeyError\u001b[0m: 'Key Error:a'"
     ]
    }
   ],
   "source": [
    "class UnsortedTableMap(MapBase):\n",
    "    def __init__(self):\n",
    "        self._table=[]\n",
    "        \n",
    "    def __getitem__(self,k):\n",
    "        for item in self._table:\n",
    "            if k==item._key:\n",
    "                return item._value\n",
    "        raise KeyError(\"Key Error:{}\".format(k))\n",
    "        \n",
    "    def __setitem__(self,k,v):\n",
    "        for item in self._table:\n",
    "            if k==item._key:\n",
    "                item._value=v\n",
    "                return\n",
    "        self._table.append(self._Item(k,v))\n",
    "    def __delitem__(self,k):\n",
    "        for j in range(len(self._table)):\n",
    "            if k==self._table[j]._key:\n",
    "                self._table.pop(j)\n",
    "                return \n",
    "        raise KeyError(\"Key Error:{}\".format(k))\n",
    "        \n",
    "    def __len__(self):\n",
    "        return len(self._table)\n",
    "    \n",
    "    def __iter__(self):\n",
    "        for item in self._table:\n",
    "            yield item._key\n",
    "            \n",
    "a=UnsortedTableMap()\n",
    "a[\"a\"]=1\n",
    "print(a[\"a\"])\n",
    "a[\"a\"]=2\n",
    "print(a[\"a\"])\n",
    "del a[\"a\"]\n",
    "print(a[\"a\"])"
   ]
  },
  {
   "cell_type": "markdown",
   "metadata": {
    "deletable": true,
    "editable": true
   },
   "source": [
    "#### hash table(散列表)\n",
    "使用一个固定长度为n的查找表格,将key k存储在index 为k的表格中,基本的字典操作getitem,setitem,delitem 的时间复杂度就变为$O(1)$\n",
    "达到这样的目的有两种困难:\n",
    "1. 查找表格的长度不能远大于item的个数\n",
    "2. 必须找到一个hash函数,将key映射到查找表格上,并减少hash冲突(多个键同一个index)\n",
    "对于hash冲突的key,使用hash桶\n",
    "![Screenshot from 2017-04-05 10-31-31.png](https://ooo.0o0.ooo/2017/04/05/58e4571585a7c.png)"
   ]
  },
  {
   "cell_type": "markdown",
   "metadata": {
    "deletable": true,
    "editable": true
   },
   "source": [
    "##### hash函数\n",
    "hash函数将任意键转换为查找表范围内的一个整数\n",
    "hash函数可以分为两部分:\n",
    "1. a hash code that maps a key k to an integer(hash code生产)\n",
    "2. a compression function that maps the hash code to an integer within a range of indices(压缩,取模)\n",
    "![Screenshot from 2017-04-05 10-55-35.png](https://ooo.0o0.ooo/2017/04/05/58e45cb8527fd.png)"
   ]
  },
  {
   "cell_type": "markdown",
   "metadata": {
    "deletable": true,
    "editable": true
   },
   "source": [
    "##### hash code\n",
    "1. 用bit表示作为整数  \n",
    "任何数据类型在计算机内都是位表示 64位的float可以转换位32位的integer--直接截取32位高位,或者将32位高位与32位低位通过各种方式混合.\n",
    "2. hash code多项式\n",
    "考虑位置,将每个元素的hash值结合\n",
    "![Screenshot from 2017-04-05 11-14-06.png](https://ooo.0o0.ooo/2017/04/05/58e462310146a.png)"
   ]
  },
  {
   "cell_type": "markdown",
   "metadata": {
    "deletable": true,
    "editable": true
   },
   "source": [
    "##### hash code in python\n",
    "the immutable int, float, str, tuple, and frozenset classes produce robust hash codes.使用python的不可变类型来构造hash code  \n",
    "使用元组\n",
    "```\n",
    "def hash (self):\n",
    "    return hash( (self. red, self. green, self. blue) )\n",
    "```\n",
    "只要定义\\__eq\\__,必须定义\\__hash\\__"
   ]
  },
  {
   "cell_type": "markdown",
   "metadata": {
    "deletable": true,
    "editable": true
   },
   "source": [
    "##### 压缩方法\n",
    "1. The Division Method  \n",
    "$i\\,mod\\,N$  \n",
    "风险是N是非质数的话,非常容易产生hash冲突\n",
    "2. The MAD Method (Multiply-Add-and-Divide)  \n",
    "${[}(ai+b)\\,mod\\,p{]}\\,mod\\,N$  \n",
    " * N是查找表格的大小 \n",
    " * p是比N大的质数\n",
    " * a,b是[0,p-1]的随机数,a>0\n",
    "\n"
   ]
  },
  {
   "cell_type": "markdown",
   "metadata": {
    "deletable": true,
    "editable": true
   },
   "source": [
    "#### 应对hash冲突的两种方法\n",
    "##### Separate Chaining(分别链接)\n",
    "原本Hash表每个元素是一个输入数据的数据结构类型，现在把每个元素改成一个由该数据结构类型构成的指针链表。这样，当发生冲突时，只要在该指针链表的尾端或首端插入该值即可。\n",
    "![Screenshot from 2017-04-05 12-56-02.png](https://ooo.0o0.ooo/2017/04/05/58e478ff57099.png)\n",
    "哈希桶的size n/查找表大小 N称为load factor 负载因子,越小越好"
   ]
  },
  {
   "cell_type": "markdown",
   "metadata": {
    "deletable": true,
    "editable": true
   },
   "source": [
    "##### 开放地址法\n",
    "线性插入法\n",
    "当a[j]被占据,我们选择a[(j+1) mod n],这样一直下去.\n",
    "![Screenshot from 2017-04-05 13-01-56.png](https://ooo.0o0.ooo/2017/04/05/58e47a56b9784.png)\n",
    "容易发生团聚现象,需要rehash"
   ]
  },
  {
   "cell_type": "markdown",
   "metadata": {
    "deletable": true,
    "editable": true
   },
   "source": [
    "#### hash表的效率\n",
    "![Screenshot from 2017-04-05 13-06-56.png](https://ooo.0o0.ooo/2017/04/05/58e47b8759a7c.png)\n",
    "效率与负债因子相关,期望是n/N,但最差的情况下,hash函数把所有item都分到一个桶中."
   ]
  },
  {
   "cell_type": "markdown",
   "metadata": {
    "deletable": true,
    "editable": true
   },
   "source": [
    "#### python hash table实现"
   ]
  },
  {
   "cell_type": "code",
   "execution_count": 20,
   "metadata": {
    "collapsed": false,
    "deletable": true,
    "editable": true
   },
   "outputs": [],
   "source": [
    "from random import randrange\n",
    "class HashMapBase(MapBase):\n",
    "    def __init__(self,cap=11,p=109345121):\n",
    "        self._table=cap*[None]\n",
    "        self._n=0\n",
    "        self._prime=p\n",
    "        self._scale=1+randrange(p-1) #a of mad\n",
    "        self._shift=randrange(p) #b of mad\n",
    "        \n",
    "    def _hash_function(self,k):\n",
    "        return (hash(k)*self._scale+self._shift)%self._prime%len(self._table)\n",
    "    \n",
    "    def __len__(self):\n",
    "        return self._n\n",
    "    \n",
    "    def __getitem__(self,k):\n",
    "        j=self._hash_function(k)\n",
    "        return self._bucket_getitem(j,k)\n",
    "    \n",
    "    def __setitem__(self,k,v):\n",
    "        j=self._hash_function(k)\n",
    "        self._bucket_setitem(j,k,v)\n",
    "        if self._n>len(self._table)//2:\n",
    "            self._resize(2*len(self._table)-1) #负载因子永远小于0.5\n",
    "            \n",
    "    def __delitem__(self,k):\n",
    "        j=self._hash_function(k)\n",
    "        self._bucket_delitem(j,k)\n",
    "        self._n-=1\n",
    "        \n",
    "    def _resize(self,c):\n",
    "        old=list(self.items())\n",
    "        self._table=c*[None]\n",
    "        self._n=0\n",
    "        for(k,v) in old:\n",
    "            self[k]=v\n",
    "            "
   ]
  },
  {
   "cell_type": "code",
   "execution_count": 23,
   "metadata": {
    "collapsed": false,
    "deletable": true,
    "editable": true
   },
   "outputs": [
    {
     "name": "stdout",
     "output_type": "stream",
     "text": [
      "2\n"
     ]
    }
   ],
   "source": [
    "#分别链接法\n",
    "class ChainHashMap(HashMapBase):\n",
    "    def _bucket_getitem(self,j,k):\n",
    "        bucket=self._table[j]\n",
    "        if bucket is None:\n",
    "            raise KeyError(\"wrong key {}\".format(k))\n",
    "        return bucket[k]\n",
    "    \n",
    "    def _bucket_setitem(self,j,k,v):\n",
    "        if self._table[j] is None:\n",
    "            self._table[j]=UnsortedTableMap() #以一个无序map作为桶\n",
    "        oldsize=len(self._table[j])\n",
    "        self._table[j][k]=v\n",
    "        if len(self._table[j])>oldsize:\n",
    "            self._n+=1\n",
    "            \n",
    "    def _bucket_delitem(self,j,k):\n",
    "        bucket=self._table[j]\n",
    "        if bucket is None:\n",
    "            raise KeyError(\"wrong key {}\".format(k))\n",
    "        del bucket[k]\n",
    "        \n",
    "    def __iter__(self):\n",
    "        for bucket in self._table:\n",
    "            if bucket:\n",
    "                for key in bucket:\n",
    "                    yield key\n",
    "\n",
    "b=ChainHashMap()\n",
    "b[\"1\"]=2\n",
    "print(b[\"1\"])"
   ]
  },
  {
   "cell_type": "markdown",
   "metadata": {
    "deletable": true,
    "editable": true
   },
   "source": [
    "#### 排序查找表Sorted Search Tables\n",
    "在查找表中按key的顺序进行存储\n",
    "![Screenshot from 2017-04-05 14-42-43.png](https://ooo.0o0.ooo/2017/04/05/58e491f8cd72a.png)\n",
    "最大的优势是能用二分法进行查找,比如\\__contains\\__方法可以用二分法重写"
   ]
  },
  {
   "cell_type": "code",
   "execution_count": 65,
   "metadata": {
    "collapsed": false,
    "deletable": true,
    "editable": true,
    "scrolled": true
   },
   "outputs": [
    {
     "name": "stdout",
     "output_type": "stream",
     "text": [
      "[1]\n",
      "a\n",
      "[1, 2]\n",
      "[0, 1, 2, 3]\n"
     ]
    },
    {
     "data": {
      "text/plain": [
       "True"
      ]
     },
     "execution_count": 65,
     "metadata": {},
     "output_type": "execute_result"
    }
   ],
   "source": [
    "class SortedTableMap(MapBase):\n",
    "    def _find_index(self,k,low,high):\n",
    "        if high==low:\n",
    "            return high\n",
    "        else:\n",
    "            mid=(high+low)//2\n",
    "            if k==self._table[mid]._key:\n",
    "                return mid\n",
    "            elif k<self._table[mid]._key:\n",
    "                return self._find_index(k,low,mid)\n",
    "            else:\n",
    "                return self._find_index(k,mid+1,high)\n",
    "            \n",
    "    def __init__(self):\n",
    "        self._table=[]\n",
    "        \n",
    "    def __len__(self):\n",
    "        return len(self._table)\n",
    "    \n",
    "    def __getitem__(self,k):\n",
    "        j=self._find_index(k,0,len(self._table))\n",
    "        if  j==len(self._table) or self._table[j]._key!=k:\n",
    "            raise KeyError(\"wrong key {}\".format(k))\n",
    "        return self._table[j]._value\n",
    "    def __setitem__(self,k,v):\n",
    "        j=self._find_index(k,0,len(self._table))\n",
    "        if j<len(self._table) and self._table[j]._key==k:\n",
    "            self._table[j]._value=v\n",
    "        else:\n",
    "            self._table.insert(j,self._Item(k,v))\n",
    "            \n",
    "    def __delitem__(self,k):\n",
    "        j=self._find_index(k,0,k,0,len(self._table) if len(self._table)>0 else 1)\n",
    "        if j==len(self._table) or self._table[j]._key!=k:\n",
    "            raise KeyError(\"wrong key {}\".format(k))\n",
    "        self._table.pop(j)\n",
    "        \n",
    "    def __iter__(self):\n",
    "        for item in self._table:\n",
    "            yield item._key\n",
    "            \n",
    "    def __contains__(self,k):\n",
    "        if len(self._table)==0:\n",
    "            return False\n",
    "        else:\n",
    "            j=self._find_index(k,0,len(self._table)) \n",
    "            if j==len(self._table) or self._table[j]._key!=k:\n",
    "                return False\n",
    "            return True\n",
    "        \n",
    "            \n",
    "b=SortedTableMap()\n",
    "b[1]=\"a\"\n",
    "print(list(b))\n",
    "print(b[1])\n",
    "b[2]=2\n",
    "print(list(b))\n",
    "b[3]=3\n",
    "b[3]=5\n",
    "b[0]=0\n",
    "print(list(b))\n",
    "1 in b"
   ]
  },
  {
   "cell_type": "markdown",
   "metadata": {
    "deletable": true,
    "editable": true
   },
   "source": [
    "##### 排序查找表的效率\n",
    "![Screenshot from 2017-04-05 15-52-24.png](https://ooo.0o0.ooo/2017/04/05/58e4a2533eb9e.png)"
   ]
  },
  {
   "cell_type": "markdown",
   "metadata": {
    "deletable": true,
    "editable": true
   },
   "source": [
    "#### 集合,包,多重字典\n",
    "\n",
    "##### 集合\n",
    "集合是不重复的无序元素的组合,集合跟map非常相似,区别只在于查找表不存item,直接存储值.\n",
    "##### 包\n",
    "python中的counter,它对于一个list,返回以每个独特元素为key,每个特殊元素出现的次数为value的字典.\n",
    "##### 多重字典\n",
    "a common implementation approach is to use a standard map in which the value associated with a key is itself a container class storing any number of associated values.\n",
    "就是一个value是list的字典\n"
   ]
  },
  {
   "cell_type": "code",
   "execution_count": 3,
   "metadata": {
    "collapsed": false
   },
   "outputs": [
    {
     "name": "stdout",
     "output_type": "stream",
     "text": [
      "[(1, [2]), (3, [4])]\n"
     ]
    }
   ],
   "source": [
    "class MultiMap:\n",
    "    def __init__(self):\n",
    "        self._map=dict()\n",
    "        self._n=0\n",
    "        \n",
    "    def add(self,k,v):\n",
    "        container=self._map.setdefault(k,[])\n",
    "        container.append(v)\n",
    "        self._n+=1\n",
    "        \n",
    "    def pop(self,k):\n",
    "        container=self._map[k]\n",
    "        v=container.pop()\n",
    "        #if container is emptylist del k\n",
    "        if len(container)==0:\n",
    "            del self._map[k]\n",
    "        self._n-=1\n",
    "        return (k,v)\n",
    "    \n",
    "    def find(self,k):\n",
    "        return self._map[k]\n",
    "    \n",
    "    def __iter__(self):\n",
    "        for key,value in self._map.items():\n",
    "                yield key,value\n",
    "                \n",
    "c=MultiMap()\n",
    "c.add(1,2)\n",
    "c.add(3,4)\n",
    "print(list(c))\n",
    "                \n",
    "    \n",
    "        "
   ]
  },
  {
   "cell_type": "code",
   "execution_count": null,
   "metadata": {
    "collapsed": true
   },
   "outputs": [],
   "source": []
  }
 ],
 "metadata": {
  "kernelspec": {
   "display_name": "Python 3",
   "language": "python",
   "name": "python3"
  },
  "language_info": {
   "codemirror_mode": {
    "name": "ipython",
    "version": 3
   },
   "file_extension": ".py",
   "mimetype": "text/x-python",
   "name": "python",
   "nbconvert_exporter": "python",
   "pygments_lexer": "ipython3",
   "version": "3.5.2"
  },
  "toc": {
   "colors": {
    "hover_highlight": "#DAA520",
    "running_highlight": "#FF0000",
    "selected_highlight": "#FFD700"
   },
   "moveMenuLeft": true,
   "nav_menu": {
    "height": "12px",
    "width": "252px"
   },
   "navigate_menu": true,
   "number_sections": true,
   "sideBar": true,
   "threshold": 4,
   "toc_cell": false,
   "toc_section_display": "block",
   "toc_window_display": false
  }
 },
 "nbformat": 4,
 "nbformat_minor": 2
}
