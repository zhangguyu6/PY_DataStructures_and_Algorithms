{
 "cells": [
  {
   "cell_type": "markdown",
   "metadata": {
    "deletable": true,
    "editable": true
   },
   "source": [
    "### Graph Algorithms\n",
    "* 图用来表示对象之间的关系\n",
    "* 图是顶(vertices)和边(edges)的集合.顶表示对象,边表示关系.\n",
    "* a graph G is simply a set V of vertices and a collection E of pairs of vertices from V , called edges  \n",
    "如果边的表示元组(u,v)有序,称为有向图;否则,称为无向图.\n",
    "可以存在相同的边,称为平行边(parallel edges)  \n",
    "如果边(u,u),称为边自循环(self-loop).  \n",
    "没有平行边和边自循环的图称为简单图.  \n",
    "因此简单图的边是顶点对的集合(Set).\n",
    "\n",
    "路径(path)是前后相继的边的序列.  \n",
    "循环(cycle)是起点和终点相同的路径.\n",
    "\n",
    "当有从u到v的边时,称u可达v(reach)\n",
    "当有从u到v的路径时,称u可连v(connect)  \n",
    "当一张图上任意两个定点都是可连的,称为连接(connected),如果任意两个节点都是相互可达的,u reaches v and v reaches u,称为强连接(strongly connected).\n",
    "\n",
    "包含所有边的子图称为支持子图(spanning subgraph)  \n",
    "最大可连接子图称为连接元素(connected components)\n",
    "没有循环的子图称为森林(forest)  \n",
    "树是可连的森林.\n",
    "\n",
    "图的特性:\n",
    "1. 每个顶点涉及到的图的总和是边数量的两倍.\n",
    "2. 在有向图中,每个顶的起点边=每个顶的终点边,并且起点边的总和=终点边的总和=边数\n",
    "3. m条边,n顶点的图,有向图:m<=n(n-1),无向图:m<=n(n-1)/2\n",
    "4. 对于可连图 m>=n-1\n",
    "5. 对于树 m=n-1\n",
    "6. 对于森林 m<=n-1"
   ]
  },
  {
   "cell_type": "markdown",
   "metadata": {
    "deletable": true,
    "editable": true
   },
   "source": [
    "#### 图的抽象数据结构\n",
    "    edge\n",
    "1. endpoints( ), 返回(u, v),u为起点,v为终点\n",
    "2. opposite(v), 返回另一个点  \n",
    "\n",
    "    Graph\n",
    "1. vertex count( ),返回图的顶点的个数\n",
    "2. vertices( ) ,返回全部顶点的迭代\n",
    "3. edge count( ),返回边的个数\n",
    "4. edges( ),返回全部边的迭代\n",
    "5. get edge(u,v),存在则返回u到v的边,否则返回None\n",
    "6. degree(v, out=True),对于无向图,返回涉及顶点v的全部边的数量\n",
    "7. incident edges(v, out=True),对于无向图,返回涉及顶点v的全部边的迭代\n",
    "8. insert vertex(x=None),创造包含元素x的顶点\n",
    "9. insert edge(u, v, x=None),创造从u到v,包含元素x的边\n",
    "10. remove vertex(v),去除顶点已经全部和它相关的边\n",
    "11. remove edge(e)"
   ]
  },
  {
   "cell_type": "markdown",
   "metadata": {
    "deletable": true,
    "editable": true
   },
   "source": [
    "#### 图的实现结构\n",
    "1. edgelist 维持一个无序的list存储全部的边 --难以有效定位边\n",
    "2. adjacency list 对每一个顶点,维持一个包含指向其他顶点的边的list\n",
    "3. adjacency map 对每一个顶点,维持一个包含指向其他顶点的边的map,以其他顶点为key,边位value\n",
    "4. adjacency matrix 对于n个顶点,维持n\\*n的矩阵,每个entry存一个边.\n",
    "\n",
    "![Screenshot from 2017-04-06 11-49-03.png](https://ooo.0o0.ooo/2017/04/06/58e5bacd24892.png)"
   ]
  },
  {
   "cell_type": "markdown",
   "metadata": {
    "deletable": true,
    "editable": true
   },
   "source": [
    "##### adjacency list (邻接表)\n",
    "![Screenshot from 2017-04-06 12-45-26.png](https://ooo.0o0.ooo/2017/04/06/58e5c7f98e1aa.png)\n",
    "\n",
    "##### adjacency map (邻接字典)\n",
    "![Screenshot from 2017-04-06 12-55-09.png](https://ooo.0o0.ooo/2017/04/06/58e5ca403aa55.png)\n",
    "改善了邻接表,get_edge变成了$O(1)$\n",
    "\n",
    "##### adjacency matrix (邻接矩阵)\n",
    "![Screenshot from 2017-04-06 12-59-53.png](https://ooo.0o0.ooo/2017/04/06/58e5cb5c5579c.png)\n",
    "最大优势是 edge (u, v)变成$O(1)$,但空间占用从其他方法的m+n,变成了n\\*n."
   ]
  },
  {
   "cell_type": "markdown",
   "metadata": {
    "deletable": true,
    "editable": true
   },
   "source": [
    "#### 图的实现\n",
    "使用邻接字典"
   ]
  },
  {
   "cell_type": "code",
   "execution_count": 49,
   "metadata": {
    "collapsed": false,
    "deletable": true,
    "editable": true
   },
   "outputs": [
    {
     "name": "stdout",
     "output_type": "stream",
     "text": [
      "{Vertex:a: {Vertex:b: Edge:ab}, Vertex:b: {Vertex:a: Edge:ab, Vertex:c: Edge:bc, Vertex:d: Edge:bd}, Vertex:c: {Vertex:b: Edge:bc}, Vertex:e: {}, Vertex:d: {Vertex:b: Edge:bd}}\n"
     ]
    }
   ],
   "source": [
    "class Vertex:\n",
    "    __slots__=\"_element\"\n",
    "    \n",
    "    def __init__(self,x):\n",
    "        self._element=x\n",
    "        \n",
    "    def element(self):\n",
    "        return self._element\n",
    "    \n",
    "    def __hash__(self):\n",
    "        return hash(id(self))\n",
    "    \n",
    "    def __str__(self):\n",
    "        return \"Vertex:{}\".format(self._element)\n",
    "    def __repr__(self):\n",
    "        return str(self)\n",
    "    def __lt__(self,other):\n",
    "        return self._element<other._element\n",
    "class Edge:\n",
    "    __slots__=\"_origin\",\"_destination\",\"_element\"\n",
    "    \n",
    "    def __init__(self,u,v,x):\n",
    "        self._origin=u\n",
    "        self._destination=v\n",
    "        self._element=x\n",
    "        \n",
    "    def endpoints(self):\n",
    "        return (self._origin,self._destination)\n",
    "    \n",
    "    def opposite(self,v):\n",
    "        return self._destination if v is self._origin else self._origin\n",
    "    def __hash__(self):\n",
    "        return hash((self._origin,self._destination))\n",
    "    def __str__(self):\n",
    "        return \"Edge:{}\".format(self._element)\n",
    "    def __repr__(self):\n",
    "        return \"Edge:{}\".format(self._element)\n",
    "        \n",
    "    \n",
    "\n",
    "class Graph:\n",
    "    def __init__(self,directed=False):\n",
    "        #装顶点的字典\n",
    "        self._outgoing={}\n",
    "        \n",
    "        self._incoming={} if directed else self._outgoing\n",
    "    \n",
    "    def is_directed(self):\n",
    "        return self._incoming is not self._outgoing\n",
    "    \n",
    "    def vertex_count(self):\n",
    "        #返回顶点数\n",
    "        return len(self._outgoing)\n",
    "    \n",
    "    def vertices(self):\n",
    "        #返回顶点的迭代\n",
    "        return self._outgoing.keys()\n",
    "    \n",
    "    def edge_count(self):\n",
    "        #返回边数\n",
    "        total=sum(len(self._outgoing[v]) for v in self._outgoing)\n",
    "        \n",
    "    def edges(self):\n",
    "        #返回边的迭代,是一个set\n",
    "        result=set()\n",
    "        for secondary_map in self._outgoing.values():\n",
    "            result.update(secondary_map.values())\n",
    "        return result\n",
    "    \n",
    "    def get_edge(self,u,v):\n",
    "        #返回源头为u,目的为v的边\n",
    "        return self._outgoing[u].get(v)\n",
    "    \n",
    "    def degree(self,v,outgoing=True):\n",
    "        #返回以v为源头的边的数量\n",
    "        maps=self._outgoing if outgoing else self._incoming\n",
    "        return len(maps[v])\n",
    "    \n",
    "    def incident_edges(self, v, outgoing=True):\n",
    "        #返回以v为源头的边的迭代\n",
    "        maps=self._outgoing if outgoing else self._incoming\n",
    "        for edge in maps[v].values():\n",
    "            yield edge\n",
    "            \n",
    "    def insert_vertex(self,x=None):\n",
    "        #插入一个空字典\n",
    "        v=Vertex(x)\n",
    "        self._outgoing[v]={}\n",
    "        if self.is_directed():\n",
    "            self._incoming[v]={}\n",
    "        return v\n",
    "        \n",
    "    def insert_edge(self,u,v,x=None):\n",
    "        e=Edge(u,v,x)\n",
    "        self._outgoing[u][v]=e\n",
    "        self._incoming[v][u]=e\n",
    "    \n",
    "g=Graph()\n",
    "a=g.insert_vertex(\"a\")\n",
    "b=g.insert_vertex(\"b\")\n",
    "c=g.insert_vertex(\"c\")\n",
    "d=g.insert_vertex(\"d\")\n",
    "e=g.insert_vertex(\"e\")\n",
    "g.insert_edge(a,b,\"ab\")\n",
    "g.insert_edge(b,c,\"bc\")\n",
    "g.insert_edge(b,d,\"bd\")\n",
    "print(g._outgoing)"
   ]
  },
  {
   "cell_type": "markdown",
   "metadata": {
    "deletable": true,
    "editable": true
   },
   "source": [
    "#### 图的遍历\n",
    "如果一个遍历能以线性时间访问全部的顶点和边,那么这个遍历就是有效的.  \n",
    "图遍历的关键问题是回答可达性.\n",
    "深度优先和广度优先是两种常用算法.\n",
    "##### 深度优先搜索 depth-first search (DFS)"
   ]
  },
  {
   "cell_type": "markdown",
   "metadata": {
    "deletable": true,
    "editable": true
   },
   "source": [
    "伪代码:\n",
    "```\n",
    "Algorithm DFS(G,u):\n",
    "{We assume u has already been marked as visited}\n",
    "Input: A graph G and a vertex u of G\n",
    "Output: A collection of vertices reachable from u, with their discovery edges\n",
    "for each outgoing edge e = (u, v) of u do 对每个顶点,找到所有可达的顶点\n",
    "if vertex v has not been visited then     没有访问过则标记\n",
    "Mark vertex v as visited (via edge e).\n",
    "Recursively call DFS(G,v).                递归访问没有标记的顶点\n",
    "```"
   ]
  },
  {
   "cell_type": "markdown",
   "metadata": {
    "deletable": true,
    "editable": true
   },
   "source": [
    "![Screenshot from 2017-04-06 14-20-03.png](https://ooo.0o0.ooo/2017/04/06/58e5de2b20ce3.png)\n",
    "1. 深度优先搜索把图转化成了树\n",
    "2. 深度优先搜索找出了所有与顶点s可达的顶点."
   ]
  },
  {
   "cell_type": "markdown",
   "metadata": {
    "deletable": true,
    "editable": true
   },
   "source": [
    "##### 深度优先搜索的实现\n",
    "我们使用并查集来标记找到的顶点,并查集是一个存储父节点的字典."
   ]
  },
  {
   "cell_type": "code",
   "execution_count": 29,
   "metadata": {
    "collapsed": false,
    "deletable": true,
    "editable": true
   },
   "outputs": [
    {
     "name": "stdout",
     "output_type": "stream",
     "text": [
      "{Vertex:a: None, Vertex:b: Vertex:a, Vertex:c: Vertex:b, Vertex:d: Vertex:b}\n"
     ]
    }
   ],
   "source": [
    "def DFS(g, u, discovered):\n",
    "    for edge in g.incident_edges(u):\n",
    "        v=edge.opposite(u)\n",
    "        if v not in discovered:\n",
    "            #父顶点为子顶点的值\n",
    "            discovered[v]=u\n",
    "            DFS(g,v,discovered)\n",
    "result={a:None}\n",
    "DFS(g,a,result)\n",
    "print(result)"
   ]
  },
  {
   "cell_type": "markdown",
   "metadata": {
    "deletable": true,
    "editable": true
   },
   "source": [
    "通过取得的并查集,我们重组路径"
   ]
  },
  {
   "cell_type": "code",
   "execution_count": 30,
   "metadata": {
    "collapsed": false,
    "deletable": true,
    "editable": true
   },
   "outputs": [
    {
     "name": "stdout",
     "output_type": "stream",
     "text": [
      "[Vertex:a, Vertex:b, Vertex:c]\n"
     ]
    }
   ],
   "source": [
    "def construct_path(u, v, discovered):\n",
    "    path=[]\n",
    "    if v not in discovered:\n",
    "        raise KeyError(\"no such key\")\n",
    "    else:\n",
    "        while v is not u:\n",
    "            path.append(v)\n",
    "            v=discovered[v]\n",
    "        path.append(v)\n",
    "        path.reverse()\n",
    "        return path\n",
    "    \n",
    "print(construct_path(a,c,result))"
   ]
  },
  {
   "cell_type": "markdown",
   "metadata": {
    "deletable": true,
    "editable": true
   },
   "source": [
    "图中的每个顶点不一定都是可达的,也就是说一个图可能包括多个树  \n",
    "我们把包含图中所有树的集合,称为森林(forest)"
   ]
  },
  {
   "cell_type": "code",
   "execution_count": 32,
   "metadata": {
    "collapsed": false,
    "deletable": true,
    "editable": true
   },
   "outputs": [
    {
     "data": {
      "text/plain": [
       "[{Vertex:a: None, Vertex:b: Vertex:a, Vertex:c: Vertex:b, Vertex:d: Vertex:b},\n",
       " {Vertex:e: None}]"
      ]
     },
     "execution_count": 32,
     "metadata": {},
     "output_type": "execute_result"
    }
   ],
   "source": [
    "from itertools import chain\n",
    "def DFS_all(g):\n",
    "    forest=[]\n",
    "    for u in g.vertices():\n",
    "        if u not in chain(*(tree.keys() for tree in forest)):\n",
    "            newtree={u:None}\n",
    "            forest.append(newtree)\n",
    "            DFS(g,u,newtree)\n",
    "    return forest\n",
    "\n",
    "DFS_all(g)#森林里有两棵树"
   ]
  },
  {
   "cell_type": "code",
   "execution_count": 41,
   "metadata": {
    "collapsed": false,
    "deletable": true,
    "editable": true
   },
   "outputs": [
    {
     "name": "stdout",
     "output_type": "stream",
     "text": [
      "[1, 2, 3, 4, 5]\n",
      "[1, 2, 3, 4, 5]\n"
     ]
    }
   ],
   "source": [
    "def listflat(l):\n",
    "    result=[]\n",
    "    for item in l:\n",
    "        if isinstance(item,list):\n",
    "            result+=listflat(item)\n",
    "        else:\n",
    "            result.append(item)\n",
    "    return result\n",
    "\n",
    "def listflat2(l):\n",
    "     return list(i for li in ([item]  if not isinstance(item,list) else listflat2(item) for item in l) for i in li)\n",
    "l=[[1,2,3],[4],5]\n",
    "print(listflat(l))\n",
    "print(listflat2(l))"
   ]
  },
  {
   "cell_type": "markdown",
   "metadata": {
    "deletable": true,
    "editable": true
   },
   "source": [
    "#### 广度优先算法 breadth-first search (BFS)\n",
    "引入了一个层次的概念,分层进行搜索\n",
    "![Screenshot from 2017-04-06 16-27-19.png](https://ooo.0o0.ooo/2017/04/06/58e5fc22c6804.png)\n",
    "原理:\n",
    "1. 将顶点入队列\n",
    "2. 当队列为非空时，继续执行，否则算法结束\n",
    "3. 出队列取得队列头顶点V；访问并标记为已访问\n",
    "4. 查找顶点V的第一个邻接顶点W\n",
    "5. 若V的邻接顶点W未被访问过的，则W入队列\n",
    "6. 继续查找顶点V的另一个新的邻接顶点W，转到步骤2"
   ]
  },
  {
   "cell_type": "code",
   "execution_count": 42,
   "metadata": {
    "collapsed": false,
    "deletable": true,
    "editable": true
   },
   "outputs": [
    {
     "name": "stdout",
     "output_type": "stream",
     "text": [
      "{Vertex:a: None, Vertex:b: Vertex:a, Vertex:c: Vertex:b, Vertex:d: Vertex:b}\n"
     ]
    }
   ],
   "source": [
    "#广度优先算法没有使用递归,因为它按层次顺序进行处理.\n",
    "def BFS(g,s,discovered):\n",
    "    level=[s]\n",
    "    while len(level)>0:\n",
    "        next_level=[]\n",
    "        for u in level:\n",
    "            for edge in g.incident_edges(u):\n",
    "                v=edge.opposite(u)\n",
    "                if v not in discovered:\n",
    "                    discovered[v]=u\n",
    "                    next_level.append(v)\n",
    "        level=next_level\n",
    "result={a:None}\n",
    "BFS(g,a,result)\n",
    "print(result)"
   ]
  },
  {
   "cell_type": "markdown",
   "metadata": {
    "deletable": true,
    "editable": true
   },
   "source": [
    "#### 最短路径\n",
    "对于有权图(Weighted Graphs),计算其最短路径是非常常见的需求,比如规划城市间的交通路线,规划快递站等.\n",
    "对于每条边的权重都一样的情况,对于顶点(u,v),u的广度优先搜索直接返回了到v的最短路径.\n",
    "##### 有权图(Weighted Graphs)\n",
    "每条边都有一个权重\n",
    "![Screenshot from 2017-04-06 17-00-08.png](https://ooo.0o0.ooo/2017/04/06/58e603a9696dc.png)\n",
    "对于有权图来说,一条路径的权重,等于该路径上全部边的权重和\n",
    "我们把d(u,v)称为u到v的权重最短路径\n",
    "![Screenshot from 2017-04-06 17-05-52.png](https://ooo.0o0.ooo/2017/04/06/58e6050165131.png)"
   ]
  },
  {
   "cell_type": "markdown",
   "metadata": {
    "deletable": true,
    "editable": true
   },
   "source": [
    "##### Dijkstra’s Algorithm计算最短路径\n",
    "Dijkstra(迪杰斯特拉)算法是典型的单源最短路径算法，用于计算一个节点到其他所有节点的最短路径。主要特点是以起始点为中心向外层层扩展，直到扩展到终点为止\n",
    "\n",
    "算法思想：设G=(V,E)是一个带权有向图，把图中顶点集合V分成两组，第一组为已求出最短路径的顶点集合（用S表示，初始时S中只有一个源点，以后每求得一条最短路径 , 就将加入到集合S中，直到全部顶点都加入到S中，算法就结束了），第二组为其余未确定最短路径的顶点集合（用U表示），按最短路径长度的递增次序依次把第二组的顶点加入S中。在加入的过程中，总保持从源点v到S中各顶点的最短路径长度不大于从源点v到U中任何顶点的最短路径长度。此外，每个顶点对应一个距离，S中的顶点的距离就是从v到此顶点的最短路径长度，U中的顶点的距离，是从v到此顶点只包括S中的顶点为中间顶点的当前最短路径长度。\n",
    "伪代码:\n",
    "```\n",
    "Algorithm ShortestPath(G, s):\n",
    "Input: A weighted graph G with nonnegative edge weights, and a distinguished\n",
    "vertex s of G.\n",
    "Output: The length of a shortest path from s to v for each vertex v of G.\n",
    "Initialize D[s] = 0 and D[v] = ∞ for each vertex v != s.\n",
    "Let a priority queue Q contain all the vertices of G using the D labels as keys.\n",
    "while Q is not empty do\n",
    "{pull a new vertex u into the cloud}\n",
    "u = value returned by Q.remove min()\n",
    "for each vertex v adjacent to u such that v is in Q do\n",
    "{perform the relaxation procedure on edge (u, v)}\n",
    "if D[u] + w(u, v) < D[v] then\n",
    "D[v] = D[u] + w(u, v)\n",
    "Change to D[v] the key of vertex v in Q.\n",
    "return the label D[v] of each vertex v\n",
    "```"
   ]
  },
  {
   "cell_type": "markdown",
   "metadata": {
    "deletable": true,
    "editable": true
   },
   "source": [
    "松弛:代码中D保存各个节点到源点的距离值估计(上界值)，P保存节点的最短路径上的前驱节点，g保存边的权值，其中不存在的边的权值为inf。松弛就是说，假设节点 u 和节点 v 事先都有一个最短距离的估计(例如测试代码中的7和13)，如果现在要松弛边(u,v)，也就是对从节点 u 通过边(u,v)到达节点 v，将这条路径得到节点 v 的距离估计值(7+3=10)和原来的节点 v 的距离估计值(13)进行比较，如果前者更小的话，就表示我们可以放弃在这之前确定的从源点到节点 v 的最短路径，改成从源点到节点 u，然后节点 u 再到节点 v，这条路线距离会更短些，这也就是发生了一次松弛！(测试代码中10<13，所以要进行松弛，此时D[v]变成10，而它的前驱节点也变成了 u)"
   ]
  },
  {
   "cell_type": "code",
   "execution_count": 44,
   "metadata": {
    "collapsed": true,
    "deletable": true,
    "editable": true
   },
   "outputs": [],
   "source": [
    "#边松弛\n",
    "def relax(g,s,v,d,p):\n",
    "    weightsv=g.get_edge(s,v)._element\n",
    "    if d[s]+weightsv<d[v]:\n",
    "        d[v]=d[s]+weightsv\n",
    "        p[v]=s\n",
    "        return True\n",
    "    return False"
   ]
  },
  {
   "cell_type": "markdown",
   "metadata": {
    "deletable": true,
    "editable": true
   },
   "source": [
    "显然，如果你随机地对边进行松弛，那么与该边有关的节点的距离估计值就会慢慢地变得更加准确，这样的改进会在整个图中进行传播，如果一直这么松弛下去的话，最终整个图所有节点的距离值都不会发生变化的时候我们就得到了从源点到所有节点的最短路径值。\n",
    "\n",
    "每次松弛可以看作是向最终解前进了“一步”，我们的目标自然是希望松弛的次数越少越好，关键就是要确定松弛的次数和松弛的顺序(好的松弛顺序可以让我们直接朝着最优解前进，缩短算法运行时间)，后面要介绍的图中的Bellman-Ford算法、Dijkstra算法以及DAG上的最短路径问题都是如此。"
   ]
  },
  {
   "cell_type": "markdown",
   "metadata": {
    "deletable": true,
    "editable": true
   },
   "source": [
    "让我们从递归的角度来看这种算法:\n",
    "这个算法的核心在于维持以顶点到源顶点的距离为键一个最小堆.\n",
    "1. 最初,最小为源到源自身的距离,源出堆,源的邻居入堆,更新最小值\n",
    "2. 除了最小值路径,源想要到底最小值路径的顶点,只能通过该顶点的邻居或者最小值中其他顶点,因为权重大于零,其他路径必大于最小值路径,因此每一次出堆都能确定到一个顶点的最小路径."
   ]
  },
  {
   "cell_type": "code",
   "execution_count": 52,
   "metadata": {
    "collapsed": false,
    "deletable": true,
    "editable": true
   },
   "outputs": [
    {
     "name": "stdout",
     "output_type": "stream",
     "text": [
      "{Vertex:a: None, Vertex:b: Vertex:a, Vertex:c: Vertex:a, Vertex:e: Vertex:c, Vertex:d: Vertex:b}\n"
     ]
    }
   ],
   "source": [
    "from heapq import heappush, heappop\n",
    "def shortestpath(g,s):\n",
    "    #最小堆\n",
    "    d=[]\n",
    "    #保存顶点到源的距离\n",
    "    tree={}\n",
    "    #结果的path\n",
    "    result={s:None}\n",
    "    #已经出堆的顶点\n",
    "    hasout=[]\n",
    "    #遍历全部节点,包括不可达的顶点\n",
    "    for v in g.vertices():\n",
    "        if v==s:\n",
    "            heappush(d,(0,v))\n",
    "            tree[v]=0\n",
    "        else:\n",
    "            heappush(d,(float(\"inf\"),v))\n",
    "            tree[v]=float(\"inf\")\n",
    "    while d:\n",
    "        stov,v=heappop(d)\n",
    "        hasout.append(v)\n",
    "        for edge in g.incident_edges(v):\n",
    "            nv=edge.opposite(v)\n",
    "            if nv not in hasout:\n",
    "                relax(g,v,nv,tree,result)\n",
    "                heappush(d,(tree[nv],nv))\n",
    "    return result\n",
    "mygraph=Graph()\n",
    "a=mygraph.insert_vertex(\"a\")\n",
    "b=mygraph.insert_vertex(\"b\")\n",
    "c=mygraph.insert_vertex(\"c\")\n",
    "d=mygraph.insert_vertex(\"d\")\n",
    "e=mygraph.insert_vertex(\"e\")\n",
    "mygraph.insert_edge(a,b,100)\n",
    "mygraph.insert_edge(a,c,200)\n",
    "mygraph.insert_edge(b,d,105)\n",
    "mygraph.insert_edge(b,e,600)\n",
    "mygraph.insert_edge(c,e,100)\n",
    "print(shortestpath(mygraph,a))"
   ]
  },
  {
   "cell_type": "markdown",
   "metadata": {
    "collapsed": true,
    "deletable": true,
    "editable": true
   },
   "source": [
    "##### 最小生成树 普里姆算法（Prim算法)\n",
    "图论中的一种算法，可在加权连通图里搜索最小生成树。意即由此算法搜索到的边子集所构成的树中，不但包括了连通图里的所有顶点，且其所有边的权值之和亦为最小。  \n",
    "普里姆算法（Prim算法)和Dijkstra’s algorithm类似,我们随机选择s,定义一个最小堆,以边的权重为key,每次从堆中取出与当前顶点相连且权重最小的节点,把它加入结果集,对其后继节点松弛后入堆,或者直接插入新权重小的后继节点.\n",
    "![](https://hujiaweibujidao.github.io/images/algos/prim.png)"
   ]
  },
  {
   "cell_type": "code",
   "execution_count": 54,
   "metadata": {
    "collapsed": false
   },
   "outputs": [
    {
     "name": "stdout",
     "output_type": "stream",
     "text": [
      "{Vertex:a: None, Vertex:b: Vertex:a, Vertex:c: Vertex:a, Vertex:e: Vertex:c, Vertex:d: Vertex:b}\n"
     ]
    }
   ],
   "source": [
    "def prim(g,s):\n",
    "    result,d={},[(0,None,s)]\n",
    "    while d:\n",
    "        _,parent,u=heappop(d)\n",
    "        if u in result:\n",
    "            continue\n",
    "        result[u]=parent\n",
    "        for edge in g.incident_edges(u):\n",
    "            heappush(d,(edge._element,u,edge.opposite(u)))\n",
    "    return result\n",
    "\n",
    "print(prim(mygraph,a))\n",
    "    "
   ]
  },
  {
   "cell_type": "markdown",
   "metadata": {},
   "source": []
  }
 ],
 "metadata": {
  "kernelspec": {
   "display_name": "Python 3",
   "language": "python",
   "name": "python3"
  },
  "language_info": {
   "codemirror_mode": {
    "name": "ipython",
    "version": 3
   },
   "file_extension": ".py",
   "mimetype": "text/x-python",
   "name": "python",
   "nbconvert_exporter": "python",
   "pygments_lexer": "ipython3",
   "version": "3.5.2"
  },
  "toc": {
   "colors": {
    "hover_highlight": "#DAA520",
    "running_highlight": "#FF0000",
    "selected_highlight": "#FFD700"
   },
   "moveMenuLeft": true,
   "nav_menu": {
    "height": "280px",
    "width": "252px"
   },
   "navigate_menu": true,
   "number_sections": true,
   "sideBar": true,
   "threshold": 4,
   "toc_cell": false,
   "toc_section_display": "block",
   "toc_window_display": false
  }
 },
 "nbformat": 4,
 "nbformat_minor": 2
}
