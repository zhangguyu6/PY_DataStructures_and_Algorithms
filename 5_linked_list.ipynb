{
 "cells": [
  {
   "cell_type": "markdown",
   "metadata": {
    "deletable": true,
    "editable": true
   },
   "source": [
    "### 链表"
   ]
  },
  {
   "cell_type": "markdown",
   "metadata": {
    "deletable": true,
    "editable": true
   },
   "source": [
    "在上一章我们谈谈到了array,array有如下缺陷:\n",
    "1. 动态数组的长度可能比实际所需的长度大\n",
    "2. 因为需要resize,在实际应用中cost很大\n",
    "3. 在前面插入和删除的成本太高  \n",
    "\n",
    "链表(linked list)可以作为array的代替,依赖于一个节点(node)对象,每个nodo包含两个应用,指向它自身的元素,以及指向下一个node,链表index的cost很高,但避免了array的三个缺陷."
   ]
  },
  {
   "cell_type": "markdown",
   "metadata": {
    "deletable": true,
    "editable": true
   },
   "source": [
    "#### 单链链表\n",
    "A singly linked list, in its simplest form, is a collection of nodes that collectively form a linear sequence. Each node stores a reference to an object that is an element of the sequence, as well as a reference to the next node of the list.\n",
    "![Screenshot from 2017-03-24 10-59-48.png](https://ooo.0o0.ooo/2017/03/24/58d48bb65233c.png)\n",
    "##### 单链链表就是线性的一个node连着一个node\n",
    "![Screenshot from 2017-03-24 11-01-42.png](https://ooo.0o0.ooo/2017/03/24/58d48c2708fca.png)\n",
    "尾元素指向一个空集,根据node的指针指向下一个node,称为链表遍历,指针跳跃(link hopping)"
   ]
  },
  {
   "cell_type": "markdown",
   "metadata": {
    "deletable": true,
    "editable": true
   },
   "source": [
    "##### 链表必须保存对头部的引用,没有头部无法遍历链表\n",
    "##### 链表的插入操作\n",
    "![Screenshot from 2017-03-24 11-10-04.png](https://ooo.0o0.ooo/2017/03/24/58d48e2160c60.png)\n",
    "```\n",
    "#从头部插入的代码\n",
    "add_first(L,e):\n",
    "    newest=Node(e)\n",
    "    newest.next=L.head\n",
    "    L.head=newest\n",
    "    L.size=L.size+1\n",
    "```"
   ]
  },
  {
   "cell_type": "markdown",
   "metadata": {
    "deletable": true,
    "editable": true
   },
   "source": [
    "##### 单链链表的元素移除\n",
    "![Screenshot from 2017-03-24 11-19-47.png](https://ooo.0o0.ooo/2017/03/24/58d49065d6193.png)\n",
    "```\n",
    "remove first(L):\n",
    "    if L.head is None:\n",
    "        raise error\n",
    "    L.head=L.head.next\n",
    "    L.size-=1\n",
    "```"
   ]
  },
  {
   "cell_type": "markdown",
   "metadata": {
    "deletable": true,
    "editable": true
   },
   "source": [
    "##### 用链表实现一个栈"
   ]
  },
  {
   "cell_type": "code",
   "execution_count": 13,
   "metadata": {
    "collapsed": false,
    "deletable": true,
    "editable": true
   },
   "outputs": [
    {
     "name": "stdout",
     "output_type": "stream",
     "text": [
      "[2, 1]\n",
      "[1]\n"
     ]
    }
   ],
   "source": [
    "class LinkedStack:\n",
    "    \n",
    "    class _Node:\n",
    "        __slots__=\"_item\",\"_next\"\n",
    "        def __init__(self,item,next):\n",
    "            self._item=item\n",
    "            self._next=next\n",
    "            \n",
    "    def __init__(self):\n",
    "        self._head=None\n",
    "        self._size=0\n",
    "        \n",
    "    def push(self,item):\n",
    "        newnode=self._Node(item,self._head)\n",
    "        self._head=newnode\n",
    "        self._size+=1\n",
    "        \n",
    "    def pop(self):\n",
    "        if self.isempty():\n",
    "            raise Empty(\"stack is empty\")\n",
    "        self._head=self._head._next\n",
    "        self._size-=1\n",
    "        \n",
    "    def isempty(self):\n",
    "        return self._siez==0\n",
    "    \n",
    "    def __len__(self):\n",
    "        return self._size\n",
    "    \n",
    "    #每次调用iter,新建一个self.curhead引用当前head,否则链表不能复用\n",
    "    def __iter__(self):\n",
    "        self.curhead=self._head\n",
    "        return self\n",
    "\n",
    "    def __next__(self):\n",
    "        if self.curhead is None:\n",
    "            raise  StopIteration\n",
    "        else:\n",
    "            item=self.curhead._item\n",
    "            self.curhead=self.curhead._next\n",
    "            return item\n",
    "        \n",
    "    def __str__(self):\n",
    "        return str([i for i in iter(self)])\n",
    "            \n",
    "           \n",
    "l=LinkedStack()\n",
    "l.push(1)\n",
    "l.push(2)\n",
    "\n",
    "print(l)\n",
    "l.pop()\n",
    "print(l)"
   ]
  },
  {
   "cell_type": "markdown",
   "metadata": {
    "collapsed": true,
    "deletable": true,
    "editable": true
   },
   "source": [
    "链表实现的栈的成本分析\n",
    "![Screenshot from 2017-03-24 13-28-39.png](https://ooo.0o0.ooo/2017/03/24/58d4ae9ee5c94.png)"
   ]
  },
  {
   "cell_type": "markdown",
   "metadata": {},
   "source": [
    "链表实现一个队列,需要一个head指向头部,一个tail指向尾部\n",
    "1. 第一次插入时,head指向插入的node 如self.head=firstnode;tail也指向插入的node,如self.tail=firstnode\n",
    "2. 之后的每次插入,只修改tail,将tail.next指向新节点(注意tail一直是以head的node为首的队列的最后一个node,tail.next指向新节点,队列自然增长),然后将tail指向新插入的node."
   ]
  },
  {
   "cell_type": "code",
   "execution_count": 21,
   "metadata": {
    "collapsed": false
   },
   "outputs": [
    {
     "name": "stdout",
     "output_type": "stream",
     "text": [
      "[1]\n",
      "[1, 2]\n",
      "[2]\n",
      "[]\n"
     ]
    }
   ],
   "source": [
    "class LinkQueue:\n",
    "    class Node:\n",
    "        __slots__=\"item\",\"next\"\n",
    "        def __init__(self,item,next):\n",
    "            self.item=item\n",
    "            self.next=next\n",
    "            \n",
    "    def __init__(self):\n",
    "        self.size=0\n",
    "        self.head=None\n",
    "        self.tail=None\n",
    "    \n",
    "    def isempty(self):\n",
    "        return self.size==0\n",
    "    \n",
    "    def enqueue(self,item):\n",
    "        nownode=self.Node(item,None)\n",
    "        if self.isempty():\n",
    "            self.head=nownode\n",
    "        else:\n",
    "            #尾节点连接新节点\n",
    "            self.tail.next=nownode\n",
    "        #尾指针指向新节点\n",
    "        self.tail=nownode\n",
    "        self.size+=1\n",
    "        \n",
    "    def dequeue(self):\n",
    "        if self.isempty():\n",
    "            raise Empty(\"no item\")\n",
    "        item=self.head.item\n",
    "        self.head=self.head.next\n",
    "        self.size-=1\n",
    "        #如此时队列已空,那么节点就不存在了\n",
    "        if self.isempty():\n",
    "            self.tail=None\n",
    "        return item\n",
    "    \n",
    "    \n",
    "    def __len__(self):\n",
    "        return self.size\n",
    "    \n",
    "    def __iter__(self):\n",
    "        self.curhead=self.head\n",
    "        return self\n",
    "\n",
    "    def __next__(self):\n",
    "        if self.curhead is None:\n",
    "            raise  StopIteration\n",
    "        else:\n",
    "            item=self.curhead.item\n",
    "            self.curhead=self.curhead.next\n",
    "            return item\n",
    "        \n",
    "    def __str__(self):\n",
    "        return str([i for i in iter(self)])\n",
    "    \n",
    "l=LinkQueue()\n",
    "l.enqueue(1)\n",
    "print(l)\n",
    "l.enqueue(2)\n",
    "print(l)\n",
    "l.dequeue()\n",
    "print(l)\n",
    "l.dequeue()\n",
    "print(l)"
   ]
  },
  {
   "cell_type": "markdown",
   "metadata": {},
   "source": [
    "#### 循环链表\n",
    "![Screenshot from 2017-03-24 14-30-29.png](https://ooo.0o0.ooo/2017/03/24/58d4bd1579fb3.png)\n",
    "循环链表定义一个current去形容节点,通过设置current=current.next进行遍历.\n",
    "循环列表的一个应用是轮转调度算法(Round-Robin Schedulers)  \n",
    "普通队列需要\n",
    "```\n",
    "1. e=Q.dequeue()\n",
    "2. Service e\n",
    "3. Q.enqueue() \n",
    "``` \n",
    "而循环队列需要\n",
    "```\n",
    "1. Service element Q.front()\n",
    "2. Q.rotate()\n",
    "```\n",
    "步骤更少,而且无需新建节点"
   ]
  },
  {
   "cell_type": "markdown",
   "metadata": {},
   "source": [
    "实现只使用tail和size,用tail.next指向头,入列时,新元素.next指向tail.next,tail.next指向新元素,新元素变为tail"
   ]
  },
  {
   "cell_type": "code",
   "execution_count": 23,
   "metadata": {
    "collapsed": false
   },
   "outputs": [],
   "source": [
    "class CircularQueue:\n",
    "    \n",
    "    class Node:\n",
    "        def __init__(self,item,next):\n",
    "            self.item=item\n",
    "            self.next=next\n",
    "        \n",
    "    def __init__(self):\n",
    "        self.tail=None\n",
    "        self.size=0\n",
    "        \n",
    "    def isempty(self):\n",
    "        return self.size==0\n",
    "    \n",
    "    def enqueue(self,item):\n",
    "        newnode=self.Node(item,None)\n",
    "        if self.isempty():\n",
    "            #只有一个元素,头就是尾\n",
    "            newnode.next=newnode\n",
    "        else:\n",
    "            #self.tail.next是head,newnode指向head\n",
    "            newnode.next=self.tail.next\n",
    "            #oldnode的next指向新元素\n",
    "            self.tail.next=newnode\n",
    "        #tail永远是新元素\n",
    "        self.tail=newnode\n",
    "        self.size+=1\n",
    "            \n",
    "    def dequeue(self):\n",
    "        if self.isempty():\n",
    "            raise Empty(\"no item\")\n",
    "        oldhead=self.tail.next\n",
    "        item=oldhead.item\n",
    "        #只剩一个元素,归零\n",
    "        if self.size==1:\n",
    "            self.tail=None\n",
    "        else:\n",
    "            self.tail.next=oldhead.next\n",
    "        self.size-=1\n",
    "        return item\n",
    "    \n",
    "    def __len__(self):\n",
    "        return self.size\n",
    "    \n",
    "    #旋转,首元素变成尾元素\n",
    "    def rotate(self):\n",
    "        if self.size>0:\n",
    "            self.tail=self.tail.next"
   ]
  },
  {
   "cell_type": "markdown",
   "metadata": {},
   "source": [
    "#### 双向链表\n",
    "不仅包含一个向后的指针,还包含一个向前的指针:\n",
    "双链链表的header 和 trailer是特殊的,它们是哨兵,不存储任何元素,只是用来确定边界\n",
    "![Screenshot from 2017-03-24 15-38-40.png](https://ooo.0o0.ooo/2017/03/24/58d4cd1584459.png)"
   ]
  },
  {
   "cell_type": "markdown",
   "metadata": {},
   "source": [
    "使用哨兵的优势:\n",
    "1. 极大简化操作逻辑,头和尾始终不动,只有中间的节点变化\n",
    "2. 所有插入和删除都能同样的实现,无需考虑空列的情况\n",
    "插入节点\n",
    "![Screenshot from 2017-03-24 15-48-41.png](https://ooo.0o0.ooo/2017/03/24/58d4cf755f83f.png)\n",
    "删除节点\n",
    "![Screenshot from 2017-03-24 15-49-30.png](https://ooo.0o0.ooo/2017/03/24/58d4cf9d0ff76.png)"
   ]
  },
  {
   "cell_type": "code",
   "execution_count": 32,
   "metadata": {
    "collapsed": false
   },
   "outputs": [
    {
     "name": "stdout",
     "output_type": "stream",
     "text": [
      "[1]\n",
      "[]\n"
     ]
    }
   ],
   "source": [
    "class DoubleLinkedBase:\n",
    "    class Node:\n",
    "        def __init__(self,item,pre,next):\n",
    "            self.item=item\n",
    "            self.pre=pre\n",
    "            self.next=next\n",
    "    def __init__(self):\n",
    "        self.head=self.Node(None,None,None)\n",
    "        self.tail=self.Node(None,None,None)\n",
    "        self.head.next=self.tail\n",
    "        self.tail.pre=self.head\n",
    "        self.size=0\n",
    "        \n",
    "    def isempty(self):\n",
    "        return self.size==0\n",
    "    \n",
    "    def insert_between(self,item,pre,next):\n",
    "        nownode=self.Node(item,pre,next)\n",
    "        pre.next=nownode\n",
    "        next.pre=nownode\n",
    "        self.size+=1\n",
    "        return nownode\n",
    "    \n",
    "    def delete_node(self,node):\n",
    "        pre=node.pre\n",
    "        next=node.next\n",
    "        pre.next=next\n",
    "        next.pre=pre\n",
    "        self.size-=1\n",
    "        item=node.item\n",
    "        node.pre=node.next=node.item=None\n",
    "        return item\n",
    "########################################   \n",
    "    #增加从前插入,删除的方法就成了一个栈\n",
    "    def insert_first(self,item):\n",
    "        return self.insert_between(item,self.head,self.head.next)\n",
    "    \n",
    "    \n",
    "    def delete_first(self):\n",
    "        if self.isempty():\n",
    "            raise empty(\"no item\")\n",
    "        else:\n",
    "            return self.delete_node(self.head.next)\n",
    "        \n",
    "    def __iter__(self):\n",
    "        curnode=self.head.next\n",
    "        count=self.size\n",
    "        while count:\n",
    "            yield curnode.item\n",
    "            curnode=curnode.next\n",
    "            count-=1\n",
    "        raise StopIteration\n",
    "        \n",
    "    def __str__(self):\n",
    "        return str([i for i in iter(self)])\n",
    "    \n",
    "a=DoubleLinkedBase()\n",
    "a.insert_first(1)\n",
    "print(a)\n",
    "a.delete_first()\n",
    "print(a)"
   ]
  },
  {
   "cell_type": "markdown",
   "metadata": {},
   "source": [
    "可以看到基于双向链表能非常轻松的实现一个LIFO的栈,哨兵简化了链表的操作"
   ]
  }
 ],
 "metadata": {
  "kernelspec": {
   "display_name": "Python 3",
   "language": "python",
   "name": "python3"
  },
  "language_info": {
   "codemirror_mode": {
    "name": "ipython",
    "version": 3
   },
   "file_extension": ".py",
   "mimetype": "text/x-python",
   "name": "python",
   "nbconvert_exporter": "python",
   "pygments_lexer": "ipython3",
   "version": "3.5.2"
  },
  "toc": {
   "colors": {
    "hover_highlight": "#DAA520",
    "running_highlight": "#FF0000",
    "selected_highlight": "#FFD700"
   },
   "moveMenuLeft": true,
   "nav_menu": {
    "height": "153px",
    "width": "252px"
   },
   "navigate_menu": true,
   "number_sections": true,
   "sideBar": true,
   "threshold": 4,
   "toc_cell": false,
   "toc_section_display": "block",
   "toc_window_display": false
  }
 },
 "nbformat": 4,
 "nbformat_minor": 2
}
