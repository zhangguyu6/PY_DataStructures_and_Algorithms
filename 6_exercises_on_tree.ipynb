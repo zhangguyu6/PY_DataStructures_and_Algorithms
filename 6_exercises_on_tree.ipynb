{
 "cells": [
  {
   "cell_type": "markdown",
   "metadata": {
    "deletable": true,
    "editable": true
   },
   "source": [
    "### 二叉树相关题目"
   ]
  },
  {
   "cell_type": "markdown",
   "metadata": {
    "deletable": true,
    "editable": true
   },
   "source": [
    "#### leetcode 144. Binary Tree Preorder Traversal二叉树前序遍历\n",
    "Given a binary tree, return the preorder traversal of its nodes' values.   \n",
    "**Note**: Recursive solution is trivial, could you do it iteratively?"
   ]
  },
  {
   "cell_type": "markdown",
   "metadata": {
    "deletable": true,
    "editable": true
   },
   "source": [
    "递归解法:\n",
    "1. 访问根结点。\n",
    "2. 前序遍历左子树。\n",
    "3. 前序遍历右子树 "
   ]
  },
  {
   "cell_type": "code",
   "execution_count": 1,
   "metadata": {
    "collapsed": true,
    "deletable": true,
    "editable": true
   },
   "outputs": [],
   "source": [
    "# Definition for a binary tree node.\n",
    "# class TreeNode(object):\n",
    "#     def __init__(self, x):\n",
    "#         self.val = x\n",
    "#         self.left = None\n",
    "#         self.right = None\n",
    "\n",
    "class Solution(object):\n",
    "    def postorderTraversal(self, root):\n",
    "        \"\"\"\n",
    "        :type root: TreeNode\n",
    "        :rtype: List[int]\n",
    "        \"\"\"\n",
    "        if not root:\n",
    "            return []\n",
    "        else:\n",
    "            return [root.val]+self.postorderTraversal(root.left)+\\\n",
    "        self.postorderTraversal(root.right)"
   ]
  },
  {
   "cell_type": "markdown",
   "metadata": {
    "deletable": true,
    "editable": true
   },
   "source": [
    "借助栈的迭代解法:速度明显快于递归\n",
    "迭代时需要利用栈来保存遍历到的节点，\n",
    "* 首先进行出栈抛出当前节点，保存当前节点的值，\n",
    "* 随后将右、左节点分别入栈(注意入栈顺序，先右后左)，\n",
    "* 迭代到其为叶子节点(NULL)为止。"
   ]
  },
  {
   "cell_type": "code",
   "execution_count": null,
   "metadata": {
    "collapsed": true,
    "deletable": true,
    "editable": true
   },
   "outputs": [],
   "source": [
    "def postorderTraversal(self, root):\n",
    "    stack=[]\n",
    "    result=[]\n",
    "    if root:\n",
    "        stack.append(root)\n",
    "    while stack:\n",
    "        curnode=stack.pop()\n",
    "        result.append(curnode.val)\n",
    "        if curnode.right:\n",
    "            stack.append(curnode.right)\n",
    "        if curnode.left:\n",
    "            stack.append(curnode.left)\n",
    "    return result"
   ]
  },
  {
   "cell_type": "markdown",
   "metadata": {
    "deletable": true,
    "editable": true
   },
   "source": [
    "#### 94. Binary Tree Inorder Traversal 二叉树中序遍历\n",
    "Given a binary tree, return the inorder traversal of its nodes' values.  \n",
    "**Note**: Recursive solution is trivial, could you do it iteratively?"
   ]
  },
  {
   "cell_type": "markdown",
   "metadata": {
    "deletable": true,
    "editable": true
   },
   "source": [
    "递归解法:\n",
    "2. 中序遍历左子树。\n",
    "2. 访问根结点。\n",
    "3. 中序遍历右子树 "
   ]
  },
  {
   "cell_type": "code",
   "execution_count": 2,
   "metadata": {
    "collapsed": true,
    "deletable": true,
    "editable": true
   },
   "outputs": [],
   "source": [
    "# Definition for a binary tree node.\n",
    "# class TreeNode(object):\n",
    "#     def __init__(self, x):\n",
    "#         self.val = x\n",
    "#         self.left = None\n",
    "#         self.right = None\n",
    "\n",
    "class Solution(object):\n",
    "    def inorderTraversal(self, root):\n",
    "        \"\"\"\n",
    "        :type root: TreeNode\n",
    "        :rtype: List[int]\n",
    "        \"\"\"\n",
    "        if not root:\n",
    "            return []\n",
    "        else:\n",
    "            return self.inorderTraversal(root.left)+\\\n",
    "        [root.val]+self.inorderTraversal(root.right)"
   ]
  },
  {
   "cell_type": "markdown",
   "metadata": {
    "deletable": true,
    "editable": true
   },
   "source": [
    "迭代解法:用栈的思想模拟递归,我们可以发现递归的solution\n",
    "1. 先依次调用inorderTraversal(root.left)\n",
    "2. 在root.left为None后,先返回root.val\n",
    "3. 再调用inorderTraversal(root.right)\n",
    "4. 重复1,2"
   ]
  },
  {
   "cell_type": "code",
   "execution_count": null,
   "metadata": {
    "collapsed": true,
    "deletable": true,
    "editable": true
   },
   "outputs": [],
   "source": [
    "class Solution(object):\n",
    "    def inorderTraversal(self, root):\n",
    "        if not root:\n",
    "            return []\n",
    "        stack=[]\n",
    "        result=[]\n",
    "        while stack or root :\n",
    "            if root:\n",
    "                stack.append(root)\n",
    "                root=root.left\n",
    "            else:\n",
    "                root=stack.pop()\n",
    "                result.append(root.val)\n",
    "                root=root.right\n",
    "        return result"
   ]
  },
  {
   "cell_type": "markdown",
   "metadata": {
    "deletable": true,
    "editable": true
   },
   "source": [
    "#### 145.Binary Tree Postorder Traversal 二叉树后续遍历\n",
    "Given a binary tree, return the postorder traversal of its nodes' values.  \n",
    "**Note**: Recursive solution is trivial, could you do it iteratively?  \n",
    "递归解法: 左右中\n"
   ]
  },
  {
   "cell_type": "code",
   "execution_count": null,
   "metadata": {
    "collapsed": true,
    "deletable": true,
    "editable": true
   },
   "outputs": [],
   "source": [
    "class Solution(object):\n",
    "    def postorderTraversal(self, root):\n",
    "        \"\"\"\n",
    "        :type root: TreeNode\n",
    "        :rtype: List[int]\n",
    "        \"\"\"\n",
    "        if not root:\n",
    "            return []\n",
    "        else:\n",
    "            return self.postorderTraversal(root.left)+\\\n",
    "        self.postorderTraversal(root.right)+[root.val]\n",
    "        "
   ]
  },
  {
   "cell_type": "markdown",
   "metadata": {
    "deletable": true,
    "editable": true
   },
   "source": [
    "迭代解法:加入1个flag,只有节点为根节点,而不是子节点时,出stack时返回其值(每个节点第一次作为子被提及,第2次作为根被提及)---这种方法可以改写之前的两种遍历"
   ]
  },
  {
   "cell_type": "code",
   "execution_count": null,
   "metadata": {
    "collapsed": true,
    "deletable": true,
    "editable": true
   },
   "outputs": [],
   "source": [
    "class Solution(object):\n",
    "    def postorderTraversal(self, root):\n",
    "        \"\"\"\n",
    "        :type root: TreeNode\n",
    "        :rtype: List[int]\n",
    "        \"\"\"\n",
    "        if not root:\n",
    "            return []\n",
    "        result,stack=[],[(False,root)]\n",
    "        while stack:\n",
    "            visited,node=stack.pop()\n",
    "            if visited:\n",
    "                result.append(node.val)\n",
    "            else:\n",
    "                stack.append((True,node))\n",
    "                if node.right:\n",
    "                    stack.append((False,node.right))\n",
    "                if node.left:\n",
    "                    stack.append((False,node.left))\n",
    "        return result\n",
    "        "
   ]
  },
  {
   "cell_type": "markdown",
   "metadata": {
    "deletable": true,
    "editable": true
   },
   "source": [
    "另一个想法是先前序遍历(中左右),再reverse,比用flag快"
   ]
  },
  {
   "cell_type": "code",
   "execution_count": null,
   "metadata": {
    "collapsed": true,
    "deletable": true,
    "editable": true
   },
   "outputs": [],
   "source": [
    "class Solution(object):\n",
    "    def postorderTraversal(self, root):\n",
    "        \"\"\"\n",
    "        :type root: TreeNode\n",
    "        :rtype: List[int]\n",
    "        \"\"\"\n",
    "        if not root:\n",
    "            return []\n",
    "        result,stack=[],[root]\n",
    "        while stack:\n",
    "            root=stack.pop()\n",
    "            result.append(root.val)\n",
    "            if root.left:\n",
    "                stack.append(root.left)\n",
    "            if root.right:\n",
    "                stack.append(root.right)\n",
    "        return result[::-1]"
   ]
  },
  {
   "cell_type": "markdown",
   "metadata": {
    "deletable": true,
    "editable": true
   },
   "source": [
    "#### 543. Diameter of Binary Tree　二叉树宽度\n",
    "Given a binary tree, you need to compute the length of the diameter of the tree. The diameter of a binary tree is the length of the longest path between any two nodes in a tree. This path may or may not pass through the root.  \n",
    "**Note**: The length of path between two nodes is represented by the number of edges between them."
   ]
  },
  {
   "cell_type": "markdown",
   "metadata": {},
   "source": [
    "思路:一个节点的宽度最大值有3种可能:左子树的最大值,右子树的最大值,宽度跨越2个子树--左子树的深度+右子树的深度"
   ]
  },
  {
   "cell_type": "code",
   "execution_count": null,
   "metadata": {
    "collapsed": true,
    "deletable": true,
    "editable": true
   },
   "outputs": [],
   "source": [
    "# Definition for a binary tree node.\n",
    "# class TreeNode(object):\n",
    "#     def __init__(self, x):\n",
    "#         self.val = x\n",
    "#         self.left = None\n",
    "#         self.right = None\n",
    "\n",
    "class Solution(object):\n",
    "    def diameterOfBinaryTree(self, root):\n",
    "        \"\"\"\n",
    "        :type root: TreeNode\n",
    "        :rtype: int\n",
    "        \"\"\"\n",
    "        if not root:\n",
    "            return 0\n",
    "        else:\n",
    "            diameleft=self.diameterOfBinaryTree(root.left)\n",
    "            diameright=self.diameterOfBinaryTree(root.right)\n",
    "            return max(self.depth(root.right)+self.depth(root.left),diameleft,diameright)\n",
    "        \n",
    "    def depth(self,root):\n",
    "        if not root:\n",
    "            return 0\n",
    "        else:\n",
    "            return max(self.depth(root.right),self.depth(root.left))+1\n",
    "        "
   ]
  }
 ],
 "metadata": {
  "kernelspec": {
   "display_name": "Python 3",
   "language": "python",
   "name": "python3"
  },
  "language_info": {
   "codemirror_mode": {
    "name": "ipython",
    "version": 3
   },
   "file_extension": ".py",
   "mimetype": "text/x-python",
   "name": "python",
   "nbconvert_exporter": "python",
   "pygments_lexer": "ipython3",
   "version": "3.5.2"
  },
  "toc": {
   "colors": {
    "hover_highlight": "#DAA520",
    "running_highlight": "#FF0000",
    "selected_highlight": "#FFD700"
   },
   "moveMenuLeft": true,
   "nav_menu": {
    "height": "80px",
    "width": "252px"
   },
   "navigate_menu": true,
   "number_sections": true,
   "sideBar": true,
   "threshold": 4,
   "toc_cell": false,
   "toc_section_display": "block",
   "toc_window_display": false
  }
 },
 "nbformat": 4,
 "nbformat_minor": 2
}
