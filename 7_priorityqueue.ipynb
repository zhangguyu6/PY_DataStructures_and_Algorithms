{
 "cells": [
  {
   "cell_type": "markdown",
   "metadata": {},
   "source": [
    "### 优先队列数据类型\n",
    "队列是一种FIFO的数据类型,但这种FIFO的原则在有些情况下并不适用,有时候我们需要根据其他因素觉得出栈顺序.  \n",
    "一种解决方法是\"first come ,first serve\"先进先服务  \n",
    "优先队列就是这种改良的体现:随机入队,优先元素出队--当一个元素入队后,给予其一个权限key,key子最小的元素是特权元素,将会出队."
   ]
  },
  {
   "cell_type": "markdown",
   "metadata": {},
   "source": [
    "#### 优先队列的数据模型\n",
    "* p.add(k,v): 入队新元素\n",
    "* p.min():    返回key最小元素\n",
    "* p.remove_min():最小元素出列\n",
    "* p.is_empty():判断队列是否为空\n",
    "* len(p):      返回元素个数"
   ]
  },
  {
   "cell_type": "markdown",
   "metadata": {},
   "source": [
    "#### 优先队列的实现 原型"
   ]
  },
  {
   "cell_type": "code",
   "execution_count": 1,
   "metadata": {
    "collapsed": true
   },
   "outputs": [],
   "source": [
    "class PriorityQueueBase:\n",
    "    class _ltem:\n",
    "        __slot__=\"_key\",\"_value\"\n",
    "        \n",
    "        def __init__(self,k,v):\n",
    "            self._key=k\n",
    "            self._value=v\n",
    "        #以key为基础比较\n",
    "        def __lt__(self,other):\n",
    "            return self._key<other._key\n",
    "        \n",
    "    def is_empty(self):\n",
    "        return len(self)==0\n",
    "    "
   ]
  },
  {
   "cell_type": "markdown",
   "metadata": {},
   "source": [
    "#### 使用无序list实现\n",
    "用无序list存储数据,从下图可以看到,方便入列,但出列需要排序\n",
    "![Screenshot from 2017-03-28 18-19-26.png](https://ooo.0o0.ooo/2017/03/28/58da38be757e3.png)"
   ]
  },
  {
   "cell_type": "code",
   "execution_count": 2,
   "metadata": {
    "collapsed": false
   },
   "outputs": [
    {
     "name": "stdout",
     "output_type": "stream",
     "text": [
      "(1, 'a')\n",
      "(1, 'a') (3, 'b')\n",
      "(1, 'a')\n",
      "(3, 'b')\n"
     ]
    }
   ],
   "source": [
    "class UnsortedPriorityQueue(PriorityQueueBase):\n",
    "    def __init__(self):\n",
    "        self.data=[]\n",
    "        \n",
    "    def add(self,key,value):\n",
    "        newitem=self._ltem(key,value)\n",
    "        self.data.append(newitem)\n",
    "        \n",
    "    def __len__(self):\n",
    "        return len(self.data)\n",
    "    \n",
    "    def find_min(self):\n",
    "        if self.is_empty():\n",
    "            raise Empty(\"no item\")\n",
    "        minitem=self.data[0]\n",
    "        for item in self.data:\n",
    "            #运算符重载\n",
    "            if item<minitem:\n",
    "                minitem=item\n",
    "        return minitem\n",
    "    \n",
    "    def min(self):\n",
    "        minitem= self.find_min()\n",
    "        return minitem._key,minitem._value\n",
    "    \n",
    "    \n",
    "    def remove_min(self):\n",
    "        minitem=self.find_min()\n",
    "        self.data.remove(minitem)\n",
    "        return minitem._key,minitem._value\n",
    "    \n",
    "    def __iter__(self):\n",
    "        for item in self.data:\n",
    "            yield item._key,item._value\n",
    "    \n",
    "    def __str__(self):\n",
    "        return \" \".join([str(pair) for pair in iter(self)])\n",
    "    \n",
    "pq=UnsortedPriorityQueue()\n",
    "pq.add(1,\"a\")\n",
    "print(pq)\n",
    "pq.add(3,\"b\")\n",
    "print(pq)\n",
    "print(pq.min()) \n",
    "pq.remove_min()\n",
    "print(pq)"
   ]
  },
  {
   "cell_type": "markdown",
   "metadata": {},
   "source": [
    "#### 使用有序list实现优先队列\n",
    "在数据插入时进行比较"
   ]
  },
  {
   "cell_type": "code",
   "execution_count": 3,
   "metadata": {
    "collapsed": false
   },
   "outputs": [
    {
     "name": "stdout",
     "output_type": "stream",
     "text": [
      "(1, 'a')\n",
      "(3, 'b') (1, 'a')\n",
      "(1, 'a')\n",
      "(3, 'b')\n"
     ]
    }
   ],
   "source": [
    "class SortedPriorityQueue(PriorityQueueBase):\n",
    "    #通过插入排序将最小元素放到队尾\n",
    "    def InsertSort(self):\n",
    "        for i in range(len(self.data)-2,-1,-1):\n",
    "            if self.data[i]<self.data[i+1]:\n",
    "                self.data[i],self.data[i+1]=self.data[i+1],self.data[i]\n",
    "            else:\n",
    "                break\n",
    "                \n",
    "    def __len__(self):\n",
    "        return len(self.data)\n",
    "    \n",
    "    def __init__(self):\n",
    "        self.data=[]\n",
    "        \n",
    "    def add(self,key,value):\n",
    "        self.data.append(self._ltem(key,value))\n",
    "        if len(self)>1:\n",
    "            self.InsertSort()\n",
    "    \n",
    "    def min(self):\n",
    "        if self.is_empty():\n",
    "            raise Empty(\"no item\")\n",
    "        item=self.data[-1]\n",
    "        return item._key,item._value\n",
    "    \n",
    "    def remove_min(self):\n",
    "        if self.is_empty():\n",
    "            raise Empty(\"no item\")\n",
    "        item=self.data.pop()\n",
    "        return item._key,item._value\n",
    "    \n",
    "    def __iter__(self):\n",
    "        for item in self.data:\n",
    "            yield item._key,item._value\n",
    "    \n",
    "    def __str__(self):\n",
    "        return \" \".join([str(pair) for pair in iter(self)])\n",
    "    \n",
    "pq=SortedPriorityQueue()\n",
    "pq.add(1,\"a\")\n",
    "print(pq)\n",
    "pq.add(3,\"b\")\n",
    "print(pq)\n",
    "print(pq.min()) \n",
    "pq.remove_min()\n",
    "print(pq)"
   ]
  },
  {
   "cell_type": "markdown",
   "metadata": {},
   "source": [
    "比较两种优先队列的时间成本\n",
    "![Screenshot from 2017-03-28 19-22-42.png](https://ooo.0o0.ooo/2017/03/28/58da4792edda8.png)"
   ]
  },
  {
   "cell_type": "markdown",
   "metadata": {},
   "source": [
    "#### 二叉堆实现的优先队列\n",
    "有序list的优先队列插入时间为$O(n)$  \n",
    "无序list的优先队列删除成本为$O(n)$  \n",
    "二叉堆实现的优先队列插入和删除的时间成本都是$O(logn)$"
   ]
  },
  {
   "cell_type": "markdown",
   "metadata": {},
   "source": [
    "最小二叉堆特性:\n",
    "1. 子节点的key大于或者小于其父节点\n",
    "2. n节点的二叉树高度大于等于$logn$"
   ]
  },
  {
   "cell_type": "markdown",
   "metadata": {},
   "source": [
    "插入新元素后恢复堆的顺序:**上浮法** 对新加入的节点,与它的父节点比较,小于父节点则交换\n",
    "![Screenshot from 2017-03-28 20-11-08.png](https://ooo.0o0.ooo/2017/03/28/58da52f03a006.png)"
   ]
  },
  {
   "cell_type": "markdown",
   "metadata": {},
   "source": [
    "删除根元素后恢复堆的顺序:**下沉法** ,将尾元素移到根,对根元素,除非没有子元素,比较它与子元素,大于则交换\n",
    "![Screenshot from 2017-03-28 20-17-56.png](https://ooo.0o0.ooo/2017/03/28/58da54863f4cc.png)"
   ]
  },
  {
   "cell_type": "markdown",
   "metadata": {},
   "source": [
    "用队列表示完全二叉树\n",
    "![Screenshot from 2017-03-28 20-19-18.png](https://ooo.0o0.ooo/2017/03/28/58da54d6b3214.png)\n",
    "我们从1开始编号,更方便"
   ]
  },
  {
   "cell_type": "code",
   "execution_count": 15,
   "metadata": {
    "collapsed": false
   },
   "outputs": [
    {
     "name": "stdout",
     "output_type": "stream",
     "text": [
      "(1, 'a')\n",
      "(0, 'b') (3, 'b') (1, 'a')\n",
      "(0, 'b')\n",
      "(1, 'a') (3, 'b')\n"
     ]
    }
   ],
   "source": [
    "class HeapPriorityQuene(PriorityQueueBase):\n",
    "    \n",
    "    def parent(self,index):\n",
    "        return index//2\n",
    "    def left(self,index):\n",
    "        return index*2\n",
    "    def right(self,index):\n",
    "        return index*2+1\n",
    "    def swap(self,i,j):\n",
    "        self.data[i],self.data[j]=self.data[j],self.data[i]\n",
    "        \n",
    "    def swim(self,j):\n",
    "        while j>1 and self.data[j]<self.data[j//2]:\n",
    "            self.swap(j,j//2)\n",
    "            j=j//2\n",
    "            \n",
    "    def sink(self,j):\n",
    "        while j<=len(self)//2:\n",
    "            #只要左子树\n",
    "            if j*2==len(self):\n",
    "                nextj=j*2 \n",
    "            elif self.data[j*2]<self.data[j*2+1]:\n",
    "                nextj=j*2 \n",
    "            else: \n",
    "                nextj=j*2+1\n",
    "            if self.data[j]>self.data[nextj]:\n",
    "                self.swap(j,nextj)\n",
    "            else:break\n",
    "            j=nextj\n",
    "        \n",
    "    def __init__(self):\n",
    "        self.data=[0]\n",
    "        \n",
    "    def __len__(self):\n",
    "        return len(self.data)-1\n",
    "            \n",
    "        \n",
    "    def add(self,key,value):\n",
    "        self.data.append(self._ltem(key,value))\n",
    "        self.swim(len(self.data)-1)\n",
    "        \n",
    "    def min(self):\n",
    "        if self.is_empty():\n",
    "            raise Empty(\"no item\")\n",
    "        return self.data[1]._key,self.data[1]._value\n",
    "    \n",
    "    def remove_min(self):\n",
    "        if self.is_empty():\n",
    "            raise Empty(\"no item\")\n",
    "        minitem=self.data[1]\n",
    "        self.swap(1,len(self))\n",
    "        self.data.pop()\n",
    "        self.sink(1)\n",
    "        return minitem\n",
    "    \n",
    "    def __iter__(self):\n",
    "        for item in self.data[1:]:\n",
    "            yield item._key,item._value\n",
    "    \n",
    "    def __str__(self):\n",
    "        return \" \".join([str(pair) for pair in iter(self)])\n",
    "    \n",
    "pq=HeapPriorityQuene()\n",
    "pq.add(1,\"a\")\n",
    "print(pq)\n",
    "pq.add(3,\"b\")\n",
    "pq.add(0,\"b\")\n",
    "print(pq)\n",
    "print(pq.min()) \n",
    "pq.remove_min()\n",
    "print(pq)"
   ]
  },
  {
   "cell_type": "markdown",
   "metadata": {},
   "source": [
    "基于heap的优先队列的分析:\n",
    "空间:n  \n",
    "时间:\n",
    "![Screenshot from 2017-03-28 21-16-41.png](https://ooo.0o0.ooo/2017/03/28/58da624aadecd.png)"
   ]
  },
  {
   "cell_type": "markdown",
   "metadata": {},
   "source": [
    "#### 堆建构 将无序list变成有序堆\n",
    "for i in range(len(self)//2,0,-1):  \n",
    "      sink(i)  \n",
    "思路是从倒数第二层开始,对每个节点进行下沉"
   ]
  },
  {
   "cell_type": "markdown",
   "metadata": {},
   "source": [
    "#### 堆排序  \n",
    "修改sink,使之接受index 和 堆size\n",
    "思路是先构造最大堆,再将堆顶与尾元素交换,再sink(1,size-1),直到size=0"
   ]
  },
  {
   "cell_type": "code",
   "execution_count": 24,
   "metadata": {
    "collapsed": false
   },
   "outputs": [
    {
     "name": "stdout",
     "output_type": "stream",
     "text": [
      "[0, 1, 4, 3, 6, 5]\n",
      "[0, 6, 5, 4, 3, 1]\n"
     ]
    }
   ],
   "source": [
    "class SortHeap:\n",
    "    def __init__(self,l):\n",
    "        self.data=[0]+l\n",
    "        for i in range(len(self)//2,0,-1):\n",
    "            self.sink(i,len(self))\n",
    "            \n",
    "    def __len__(self):\n",
    "        return len(self.data)-1\n",
    "    \n",
    "    def swap(self,i,j):\n",
    "        self.data[i],self.data[j]=self.data[j],self.data[i]\n",
    "    \n",
    "    def sink(self,j,size):\n",
    "        while j<=size//2:\n",
    "            if j*2==size:\n",
    "                nextj=j*2 \n",
    "            elif self.data[j*2]<self.data[j*2+1]:\n",
    "                nextj=j*2 \n",
    "            else: \n",
    "                nextj=j*2+1\n",
    "            if self.data[j]>self.data[nextj]:\n",
    "                self.swap(j,nextj)\n",
    "            else:break\n",
    "            j=nextj\n",
    "            \n",
    "    def sort(self):\n",
    "        size=len(self)\n",
    "        while size>1:\n",
    "            self.swap(1,size)\n",
    "            self.sink(1,size-1)\n",
    "            size-=1\n",
    "            \n",
    "    def __iter(self):\n",
    "        return lter(self.data)\n",
    "    \n",
    "    def __str__(self):\n",
    "        return str(self.data)\n",
    "            \n",
    "            \n",
    "s=SortHeap([1,6,3,4,5])\n",
    "print(s)\n",
    "s.sort()\n",
    "print(s)"
   ]
  },
  {
   "cell_type": "markdown",
   "metadata": {},
   "source": [
    "时间复杂度$O(nlogn)$"
   ]
  },
  {
   "cell_type": "code",
   "execution_count": null,
   "metadata": {
    "collapsed": true
   },
   "outputs": [],
   "source": []
  }
 ],
 "metadata": {
  "kernelspec": {
   "display_name": "Python 3",
   "language": "python",
   "name": "python3"
  },
  "language_info": {
   "codemirror_mode": {
    "name": "ipython",
    "version": 3
   },
   "file_extension": ".py",
   "mimetype": "text/x-python",
   "name": "python",
   "nbconvert_exporter": "python",
   "pygments_lexer": "ipython3",
   "version": "3.5.2"
  },
  "toc": {
   "colors": {
    "hover_highlight": "#DAA520",
    "running_highlight": "#FF0000",
    "selected_highlight": "#FFD700"
   },
   "moveMenuLeft": true,
   "nav_menu": {
    "height": "157px",
    "width": "252px"
   },
   "navigate_menu": true,
   "number_sections": true,
   "sideBar": true,
   "threshold": 4,
   "toc_cell": false,
   "toc_section_display": "block",
   "toc_window_display": false
  }
 },
 "nbformat": 4,
 "nbformat_minor": 2
}
