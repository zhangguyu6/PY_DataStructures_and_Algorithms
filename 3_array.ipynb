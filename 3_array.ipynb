{
 "cells": [
  {
   "cell_type": "markdown",
   "metadata": {
    "deletable": true,
    "editable": true
   },
   "source": [
    "### Array"
   ]
  },
  {
   "cell_type": "markdown",
   "metadata": {
    "deletable": true,
    "editable": true
   },
   "source": [
    "从这章开始用python梳理常用的数据结构,主要参考goodrich的data structures&algorithms,将会依次介绍Array,stack,queues,deques,linked list,trees,priority queues,maps等常见数据结构"
   ]
  },
  {
   "cell_type": "markdown",
   "metadata": {
    "deletable": true,
    "editable": true
   },
   "source": [
    "python内建了有序classes如 list,tuple,str等class,索引seq[k]是它们共同的功能,它们都是使用了一个底层的数据结构array进行构造的."
   ]
  },
  {
   "cell_type": "markdown",
   "metadata": {
    "deletable": true,
    "editable": true
   },
   "source": [
    "#### 底层数组\n",
    "1. The primarymemory of a computer is composed of bits of information, and those bits are typicallygrouped into larger units that depend upon the precise system architecture.Such a typical unit is a **byte**, which is equivalent to 8 bits.  \n",
    "字节(byte)是计算机的最小操作单元,一个位存储了8个位(bits)的信息.\n",
    "2. to keeptrack of what information is stored in what byte, the computer uses an abstraction known as a memory address.  \n",
    "内存地址用来对字节进行跟踪.\n",
    "3. so that any byte of the main memory can be efficiently accessed based upon its memory address. In this sense, we say that a computer’s main memory performs as random access memory (RAM). That is, it is just as easy to retrieve byte \\#8675309 as it is to retrieve byte \\#309.any individual byte of memory can be stored or retrieved in O(1) time.  \n",
    "通过内存地址获取字节的时间是一个常数,无论地址有多大(实现涉及到cache的知识,这里不讨论),因此内存称为随机存取存储器."
   ]
  },
  {
   "cell_type": "markdown",
   "metadata": {
    "deletable": true,
    "editable": true
   },
   "source": [
    "A group of related variables can be stored one after another in a contiguous portion of the computer’s memory. We will denote such a representation as an array. \n",
    "把一组相关的变量放到内存上连片的空间称为数组.\n",
    "![](http://i.imgur.com/U0YneQY.png)\n"
   ]
  },
  {
   "cell_type": "markdown",
   "metadata": {
    "deletable": true,
    "editable": true
   },
   "source": [
    "We will refer to each location within an array as a **cell**, and will use an integer **index** to describe its location within the array, with cells numbered starting with 0, 1, 2, and so on.  \n",
    "* cell即数组的单元,可能是一个寄存器,也可能是多个寄存器的组合  \n",
    "* index为索引  \n",
    "* 因此每个元素的位置为start + cellsize\\*index 上图中\"L\"的位置为2146+2\\*4=2154\n",
    "\"SAMPLE\"在封装到数组中的形式如下:\n",
    "![](http://i.imgur.com/fDSLk2w.png)\n"
   ]
  },
  {
   "cell_type": "markdown",
   "metadata": {
    "deletable": true,
    "editable": true
   },
   "source": [
    "##### 引用数组\n",
    "数组中每个单元存储数据的尺寸可能不一样,强行填充会造成大量浪费,因此更好的解决方法是在单元中存放数据的引用.python的list和tuple就是如此做的."
   ]
  },
  {
   "cell_type": "markdown",
   "metadata": {
    "deletable": true,
    "editable": true
   },
   "source": [
    "The fact that lists and tuples are referential structures is significant to the semantics of these classes. A single list instance may include multiple references to the same object as elements of the list, and it is possible for a single object to be an element of two or more lists, as those lists simply store references back to that object. As an example, when you compute a slice of a list, the result is a new list instance, but that new list has references to the same elements that are in the\n",
    "original list, as portrayed in Figure 5.5.\n",
    "真是因为list and tuple 是引用的,因此切片才能顺利的实现,同一个对象可以是多个list的元素\n",
    "![](http://i.imgur.com/wrzuDyi.png)"
   ]
  },
  {
   "cell_type": "markdown",
   "metadata": {
    "deletable": true,
    "editable": true
   },
   "source": [
    "python浅拷贝,创建了一个新的list对象,复制了全部引用;深拷贝创建了一个新的list对象,除不可变对象外,对可变对象创建了新引用.  \n",
    "> http://www.cnblogs.com/wilber2013/p/4645353.html "
   ]
  },
  {
   "cell_type": "markdown",
   "metadata": {
    "deletable": true,
    "editable": true
   },
   "source": [
    "![](http://i.imgur.com/fzP5nEQ.png)\n",
    "![](http://i.imgur.com/lDqKTqx.png)"
   ]
  },
  {
   "cell_type": "markdown",
   "metadata": {
    "deletable": true,
    "editable": true
   },
   "source": [
    "##### 密集数组(compact array)\n",
    "即本章开头直接在数组单元直接存储bits的数组.其优势有:\n",
    "1. 内存占用小,因为引用类型通常使用64bit作为引用地址的大小,理论上存100万个64bit的int,需要64百万位,但python通常需要4到5倍的大小,因为list中每个元素存64位的地址,int存在内存中的其他地方,在python中一个int要14bytes引用+4bytes代表64位整数.\n",
    "2. primary data are stored consecutively in memory基本数据在内存中连片存储,有利于缓存的工作"
   ]
  },
  {
   "cell_type": "markdown",
   "metadata": {
    "deletable": true,
    "editable": true
   },
   "source": [
    "在python中内建了一个array,支持c的数据类型\n",
    "> https://docs.python.org/3/library/array.html"
   ]
  },
  {
   "cell_type": "markdown",
   "metadata": {
    "deletable": true,
    "editable": true
   },
   "source": [
    "#### 动态数组 和 摊销\n",
    "数组一经创建大小不可变,python的(tuple str实例),python的list却可以增加,list的实现依赖于dynamic array(动态数组),其大小随着元素的增多而发生变化:"
   ]
  },
  {
   "cell_type": "code",
   "execution_count": 1,
   "metadata": {
    "collapsed": false,
    "deletable": true,
    "editable": true
   },
   "outputs": [
    {
     "name": "stdout",
     "output_type": "stream",
     "text": [
      "lenth :  0;size in bytes:  64 \n",
      "lenth :  1;size in bytes:  96 \n",
      "lenth :  2;size in bytes:  96 \n",
      "lenth :  3;size in bytes:  96 \n",
      "lenth :  4;size in bytes:  96 \n",
      "lenth :  5;size in bytes: 128 \n",
      "lenth :  6;size in bytes: 128 \n",
      "lenth :  7;size in bytes: 128 \n",
      "lenth :  8;size in bytes: 128 \n",
      "lenth :  9;size in bytes: 192 \n"
     ]
    }
   ],
   "source": [
    "import sys\n",
    "data=[]\n",
    "for k in range(10):\n",
    "    a=len(data)\n",
    "    b=sys.getsizeof(data)\n",
    "    print(\"lenth :{0:3};size in bytes:{1:4} \".format(a,b))\n",
    "    data.append(None)"
   ]
  },
  {
   "cell_type": "markdown",
   "metadata": {
    "deletable": true,
    "editable": true
   },
   "source": [
    "#### 实现一个动态数组"
   ]
  },
  {
   "cell_type": "code",
   "execution_count": 7,
   "metadata": {
    "collapsed": false,
    "deletable": true,
    "editable": true
   },
   "outputs": [
    {
     "name": "stdout",
     "output_type": "stream",
     "text": [
      "1 1\n",
      "0\n"
     ]
    }
   ],
   "source": [
    "import ctypes\n",
    "\n",
    "class DynamicArray:\n",
    "    def __init__(self):\n",
    "        self._n=0\n",
    "        self._capacity=1\n",
    "        self._A=self._make_array(self._capacity)\n",
    "    \n",
    "    def __len__(self):\n",
    "        return self._n\n",
    "    \n",
    "    def __getitem__(self,k):\n",
    "        if not 0<=k<self._n:\n",
    "            raise IndexError(\"invalid index\")\n",
    "        else:\n",
    "            return self._A[k]\n",
    "        \n",
    "    def append(self,obj):\n",
    "        if self._n==self._capacity:\n",
    "            self._resize(self._capacity*2)\n",
    "        self._A[self._n]=obj\n",
    "        self._n+=1\n",
    "    \n",
    "    def remove(self,value):\n",
    "        for i in range(self._n):\n",
    "            if self._A[i]==value:\n",
    "                for j in range(i,self._n-1):\n",
    "                    self._A[j]=self._A[j+1]\n",
    "                #便于垃圾搜集\n",
    "                self._A[self._n-1]=None\n",
    "                self._n-=1\n",
    "                return\n",
    "        raise ValueError(\"value not found\") \n",
    "        \n",
    "    def _resize(self,c):\n",
    "        B=self._make_array(c)\n",
    "        for i in range(self._n):\n",
    "            B[i]=self._A[i]\n",
    "        self._A=B\n",
    "        self._capacity=c\n",
    "            \n",
    "    \n",
    "    def _make_array(self,c):\n",
    "        #调用c语言接口,返回一个容量为c的array\n",
    "        return (c* ctypes.py_object)()\n",
    "    \n",
    "A=DynamicArray()\n",
    "A.append(1)\n",
    "print(len(A),A[0])\n",
    "A.remove(1)\n",
    "print(len(A))"
   ]
  },
  {
   "cell_type": "markdown",
   "metadata": {
    "deletable": true,
    "editable": true
   },
   "source": [
    "#### 动态数组的摊销分析\n",
    "命题一:: Let S be a sequence implemented by means of a dynamic array\n",
    "with initial capacity one, using the strategy of doubling the array size when full.\n",
    "The total time to perform a series of n append operations in S, starting from S being\n",
    "empty, is $O(n)$.\n",
    "每次需要调整size时,将变为size为当前的两倍,平均时间复杂度为n\n",
    "![Screenshot from 2017-03-23 16-27-21.png](https://ooo.0o0.ooo/2017/03/23/58d3881fa3dc6.png)"
   ]
  },
  {
   "cell_type": "markdown",
   "metadata": {
    "deletable": true,
    "editable": true
   },
   "source": [
    "命题二::Performing a series of n append operations on an initially empty\n",
    "dynamic array using a fixed increment with each resize takes $Ω(n^2)$ time.每次追加时递增size,平均时间复杂度$n^2$\n",
    "![Screenshot from 2017-03-23 16-36-33.png](https://ooo.0o0.ooo/2017/03/23/58d38a1908f08.png)"
   ]
  },
  {
   "cell_type": "markdown",
   "metadata": {
    "collapsed": true,
    "deletable": true,
    "editable": true
   },
   "source": [
    "#### python list and tuple 操作的效率\n",
    "非可变操作\n",
    "![Screenshot from 2017-03-23 16-45-15.png](https://ooo.0o0.ooo/2017/03/23/58d38b342560b.png)\n",
    "可变操作\n",
    "![Screenshot from 2017-03-23 16-47-14.png](https://ooo.0o0.ooo/2017/03/23/58d38ba464163.png)\n",
    "\n",
    "len(data),data[i],data[i]=vai,append(),pop()是常数级别的操作.\n",
    "list comprehension显著快于append"
   ]
  },
  {
   "cell_type": "markdown",
   "metadata": {
    "collapsed": true,
    "deletable": true,
    "editable": true
   },
   "source": [
    "#### python的字符串类\n",
    " \n",
    "finding a pattern of length m within a longer string of length n :字符串的pattern matching通常是一个$O(mn)$的操作"
   ]
  },
  {
   "cell_type": "code",
   "execution_count": 23,
   "metadata": {
    "collapsed": false
   },
   "outputs": [
    {
     "name": "stdout",
     "output_type": "stream",
     "text": [
      "10 loops, best of 3: 22.8 µs per loop\n"
     ]
    }
   ],
   "source": [
    "%%timeit -n10\n",
    "letters=\"\"\n",
    "document=\"aqweafafafasfafaqqqqqqqqqqqqqqqqqqqqqqqwqwwwwwwwwwwwwwwwwww\\\n",
    "rdfsdasssssssssssssssssssssssssssssssssssssssssssssssssssssssssssaaas\\\n",
    "hftujgddddddddddddddddddddddddddddddddddddddddddddddddddddddddddddddk\\\n",
    "as\"\n",
    "for c in document:\n",
    "    if c.isalpha():\n",
    "        letters+=c"
   ]
  },
  {
   "cell_type": "code",
   "execution_count": 24,
   "metadata": {
    "collapsed": false
   },
   "outputs": [
    {
     "name": "stdout",
     "output_type": "stream",
     "text": [
      "10 loops, best of 3: 2.58 µs per loop\n"
     ]
    }
   ],
   "source": [
    "%%timeit -n10\n",
    "temp=[]\n",
    "for c in document:\n",
    "    if c.isalpha():\n",
    "        temp.append(c)\n",
    "letters=\"\".join(temp)"
   ]
  },
  {
   "cell_type": "code",
   "execution_count": 33,
   "metadata": {
    "collapsed": false
   },
   "outputs": [
    {
     "name": "stdout",
     "output_type": "stream",
     "text": [
      "10 loops, best of 3: 2.48 µs per loop\n"
     ]
    }
   ],
   "source": [
    "%%timeit -n10\n",
    "#无需使用temp\n",
    "letters=\"\".join(c for c in document if c.isalpha())"
   ]
  },
  {
   "cell_type": "markdown",
   "metadata": {},
   "source": [
    "字符串是不可变对象,对它的追加实际上创造了一个new string instance ,每次追加的复杂度都为n."
   ]
  },
  {
   "cell_type": "markdown",
   "metadata": {},
   "source": [
    "#### 多维数组(矩阵)"
   ]
  },
  {
   "cell_type": "code",
   "execution_count": 34,
   "metadata": {
    "collapsed": false
   },
   "outputs": [
    {
     "name": "stdout",
     "output_type": "stream",
     "text": [
      "[0, 0, 0, 0, 0, 0, 0, 0, 0, 0, 0, 0, 0, 0, 0, 0, 0, 0]\n"
     ]
    }
   ],
   "source": [
    "#错误写法\n",
    "data = ([0]*6)*3\n",
    "print(data)"
   ]
  },
  {
   "cell_type": "code",
   "execution_count": 37,
   "metadata": {
    "collapsed": false
   },
   "outputs": [
    {
     "name": "stdout",
     "output_type": "stream",
     "text": [
      "[[0, 0, 0, 0, 0, 0], [0, 0, 0, 0, 0, 0], [0, 0, 0, 0, 0, 0]]\n",
      "[[1, 0, 0, 0, 0, 0], [1, 0, 0, 0, 0, 0], [1, 0, 0, 0, 0, 0]]\n"
     ]
    }
   ],
   "source": [
    "#仍是错误写法\n",
    "data=[[0]*6]*3\n",
    "print(data)\n",
    "data[0][0]=1\n",
    "print(data)"
   ]
  },
  {
   "cell_type": "markdown",
   "metadata": {},
   "source": [
    "![Screenshot from 2017-03-23 17-53-50.png](https://ooo.0o0.ooo/2017/03/23/58d39b414935d.png)\n",
    "这种写法使3个元素都指向同一个对象"
   ]
  },
  {
   "cell_type": "code",
   "execution_count": 38,
   "metadata": {
    "collapsed": false
   },
   "outputs": [
    {
     "name": "stdout",
     "output_type": "stream",
     "text": [
      "[[0, 0, 0, 0, 0, 0], [0, 0, 0, 0, 0, 0], [0, 0, 0, 0, 0, 0]]\n",
      "[[1, 0, 0, 0, 0, 0], [0, 0, 0, 0, 0, 0], [0, 0, 0, 0, 0, 0]]\n"
     ]
    }
   ],
   "source": [
    "#正确初始化矩阵需要每个2级列表都是相互独立的instance\n",
    "data=[[0]*6 for i in range(3)]\n",
    "print(data)\n",
    "data[0][0]=1\n",
    "print(data)"
   ]
  },
  {
   "cell_type": "code",
   "execution_count": null,
   "metadata": {
    "collapsed": true
   },
   "outputs": [],
   "source": []
  }
 ],
 "metadata": {
  "kernelspec": {
   "display_name": "Python 3",
   "language": "python",
   "name": "python3"
  },
  "language_info": {
   "codemirror_mode": {
    "name": "ipython",
    "version": 3
   },
   "file_extension": ".py",
   "mimetype": "text/x-python",
   "name": "python",
   "nbconvert_exporter": "python",
   "pygments_lexer": "ipython3",
   "version": "3.5.2"
  },
  "toc": {
   "colors": {
    "hover_highlight": "#DAA520",
    "running_highlight": "#FF0000",
    "selected_highlight": "#FFD700"
   },
   "moveMenuLeft": true,
   "nav_menu": {
    "height": "103px",
    "width": "252px"
   },
   "navigate_menu": true,
   "number_sections": true,
   "sideBar": true,
   "threshold": 4,
   "toc_cell": false,
   "toc_section_display": "block",
   "toc_window_display": false
  }
 },
 "nbformat": 4,
 "nbformat_minor": 2
}
