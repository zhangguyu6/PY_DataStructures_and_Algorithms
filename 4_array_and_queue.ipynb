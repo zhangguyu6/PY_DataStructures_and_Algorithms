{
 "cells": [
  {
   "cell_type": "markdown",
   "metadata": {
    "deletable": true,
    "editable": true
   },
   "source": [
    "### stacks, queues, double-ended queues"
   ]
  },
  {
   "cell_type": "markdown",
   "metadata": {
    "deletable": true,
    "editable": true
   },
   "source": [
    "#### stack\n",
    "A stack is a collection of objects that are inserted and removed according to the last-in, first-out (LIFO) principle.\n",
    "栈是一个后进先出的对象\n",
    "A user may insert objects into a stack at any time, but may only access or remove the most recently inserted object that remains(at the so-called “top” of the stack).\n",
    "永远弹出最近插入的对象\n",
    "![Screenshot from 2017-03-23 18-57-40.png](https://ooo.0o0.ooo/2017/03/23/58d3aa3556dd3.png)"
   ]
  },
  {
   "cell_type": "markdown",
   "metadata": {
    "deletable": true,
    "editable": true
   },
   "source": [
    "stack的抽象数据类型:\n",
    "* s.push() 在栈顶增加元素\n",
    "* s.pop()  在栈顶弹出元素\n",
    "* s.top()  返回栈顶元素的值,但不删除它\n",
    "* s.is_empty() 如果栈空返回true\n",
    "* len(s)       返回栈中元素的个数"
   ]
  },
  {
   "cell_type": "markdown",
   "metadata": {
    "deletable": true,
    "editable": true
   },
   "source": [
    "##### 基于数组实现一个栈"
   ]
  },
  {
   "cell_type": "code",
   "execution_count": 8,
   "metadata": {
    "collapsed": false,
    "deletable": true,
    "editable": true
   },
   "outputs": [
    {
     "name": "stdout",
     "output_type": "stream",
     "text": [
      "[1]\n",
      "1\n",
      "[]\n",
      "0\n"
     ]
    }
   ],
   "source": [
    "#更标准的实现应当像基于java的array,维持一个指向栈顶的指针,在push和pop是检查array的容量,\n",
    "#必要时调整数组大小\n",
    "#python中的list更像一个动态数组,append和pop简化了这一操作\n",
    "class ArrayStack:\n",
    "    def __init__(self):\n",
    "        self.data=[]\n",
    "        self.pointer=-1\n",
    "        self.count=0\n",
    "        \n",
    "    def push(self,item):\n",
    "        self.data.append(item)\n",
    "        self.pointer+=1\n",
    "        self.count+=1\n",
    "        \n",
    "    def pop(self):\n",
    "        if self.count==0:\n",
    "            raise Empty(\"no item\")\n",
    "        val=self.data[self.pointer]\n",
    "        self.data.pop()\n",
    "        self.pointer-=1\n",
    "        self.count-=1\n",
    "        return val\n",
    "    def top(self):\n",
    "        if self.count==0:\n",
    "            raise Empty(\"no item\")\n",
    "        return self.data[self.pointer]\n",
    "    \n",
    "    def is_empty(self):\n",
    "        return self.count==0\n",
    "    \n",
    "    def __len__(self):\n",
    "        return self.count\n",
    "    \n",
    "    def __str__(self):\n",
    "        return str(self.data)\n",
    "    \n",
    "a=ArrayStack()\n",
    "a.push(1)\n",
    "print(a)\n",
    "print(len(a))\n",
    "a.pop()\n",
    "print(a)\n",
    "print(len(a))"
   ]
  },
  {
   "cell_type": "markdown",
   "metadata": {
    "deletable": true,
    "editable": true
   },
   "source": [
    "![Screenshot from 2017-03-23 19-34-05.png](https://ooo.0o0.ooo/2017/03/23/58d3b2c17a003.png)"
   ]
  },
  {
   "cell_type": "markdown",
   "metadata": {
    "deletable": true,
    "editable": true
   },
   "source": [
    "简单的栈应用:10进制转8进制"
   ]
  },
  {
   "cell_type": "code",
   "execution_count": 15,
   "metadata": {
    "collapsed": false,
    "deletable": true,
    "editable": true
   },
   "outputs": [
    {
     "name": "stdout",
     "output_type": "stream",
     "text": [
      "6613"
     ]
    }
   ],
   "source": [
    "b=ArrayStack()\n",
    "s=ArrayStack()\n",
    "b.push(3467)\n",
    "top=b.pop()\n",
    "while top//8 !=0:\n",
    "    b.push(top//8)\n",
    "    s.push(top%8)\n",
    "    top=b.pop()\n",
    "s.push(top%8)\n",
    "while not s.is_empty():\n",
    "    print(s.pop(),end=\"\")"
   ]
  },
  {
   "cell_type": "markdown",
   "metadata": {
    "deletable": true,
    "editable": true
   },
   "source": [
    "逆波兰表达式"
   ]
  },
  {
   "cell_type": "markdown",
   "metadata": {
    "deletable": true,
    "editable": true
   },
   "source": [
    "#### queues (队列)\n",
    "as a queue is a collection of objects that are inserted and removed according to the first-in, first-out (FIFO) principle. That is, elements can be inserted at any time,but only the element that has been in the queue the longest can be next removed.队列是先进后出\n",
    "![Screenshot from 2017-03-23 20-11-43.png](https://ooo.0o0.ooo/2017/03/23/58d3bb9b9a938.png)"
   ]
  },
  {
   "cell_type": "markdown",
   "metadata": {
    "deletable": true,
    "editable": true
   },
   "source": [
    "队列的抽象数据类型:\n",
    "* Q.enquenue 进列\n",
    "* Q.dequenue 出列 删除并返回第一个元素\n",
    "* Q.first    返回第一个元素\n",
    "* Q.is_empty  判断是否为空\n",
    "* len(Q)     返回队列中元素个数"
   ]
  },
  {
   "cell_type": "markdown",
   "metadata": {
    "deletable": true,
    "editable": true
   },
   "source": [
    "##### 基于数组实现一个队列"
   ]
  },
  {
   "cell_type": "code",
   "execution_count": 26,
   "metadata": {
    "collapsed": false,
    "deletable": true,
    "editable": true
   },
   "outputs": [
    {
     "name": "stdout",
     "output_type": "stream",
     "text": [
      "[1]\n",
      "[1, 2]\n",
      "[None, 2]\n"
     ]
    }
   ],
   "source": [
    "class Quene:\n",
    "    DEFAULT_CAPACITY=1\n",
    "    \n",
    "    def __init__(self):\n",
    "        self.pointer=0\n",
    "        self.count=0\n",
    "        self.data=[None]*self.DEFAULT_CAPACITY\n",
    "        \n",
    "    def enquenue(self,item):\n",
    "        if self.count==len(self.data):\n",
    "            self.resize(2*len(self.data))\n",
    "        #队列循环,当pointer指向队列中最后一个元素时,这时再出列,则队列为空\n",
    "        #因此将指针置零 \n",
    "        lastpointer=(self.pointer+self.count)%len(self.data)\n",
    "        self.data[lastpointer]=item\n",
    "        self.count+=1\n",
    "        \n",
    "    def dequenue(self):\n",
    "        if self.count==0:\n",
    "            raise Empty(\"no item\")\n",
    "        item=self.data[self.pointer]\n",
    "        self.data[self.pointer]=None\n",
    "        self.pointer+=1\n",
    "        self.count-=1\n",
    "        #队列循环,当pointer指向队列中最后一个元素时,这是再出列,则队列为空\n",
    "        #因此将指针置零\n",
    "        self.pointer=(self.pointer+1)%len(self.data)\n",
    "        return item\n",
    "    def resize(self,size):\n",
    "        olddata=self.data\n",
    "        self.data=[None for i in range(size)]\n",
    "        for i in range(len(olddata)):\n",
    "            self.data[i]=olddata[i]\n",
    "    \n",
    "    def first(self):\n",
    "        if self.count==0:\n",
    "            raise Empty(\"no item\")\n",
    "        return self.data[self.pointer]\n",
    "    \n",
    "    def is_empty(self):\n",
    "        return self.count==0\n",
    "\n",
    "    def __len__(self):\n",
    "        return self.count\n",
    "    \n",
    "    def __str__(self):\n",
    "        return str(self.data)\n",
    "    \n",
    "q=Quene()\n",
    "q.enquenue(1)\n",
    "print(q)\n",
    "q.enquenue(2)\n",
    "print(q)\n",
    "q.dequenue()\n",
    "print(q)"
   ]
  },
  {
   "cell_type": "markdown",
   "metadata": {
    "deletable": true,
    "editable": true
   },
   "source": [
    "**数组循环**\n",
    "队列有一个问题,随着出列,队列的空间利用率越来越低,所以必须进行数组循环,当数组最后一个元素出列后,将指针置零,这样数组实际上变为了环形,空间得到完全利用.\n",
    "In developing a more robust queue implementation, we allow the front of the queue to drift rightward, and we allow the contents of the queue to “wrap around” the end of an underlying array. We assume that our underlying array has fixed length N that is greater that the actual number of elements in the queue. New elements are enqueued toward the “end” of the current queue, progressing from the front to index N − 1 and continuing at index 0, then 1. Figure 6.6 illustrates such a queue with first element E and last element M.\n",
    "E变成了头,M变成了尾\n",
    "![Screenshot from 2017-03-23 21-10-30.png](https://ooo.0o0.ooo/2017/03/23/58d3c96c50506.png)\n",
    "![Screenshot from 2017-03-23 21-12-56.png](https://ooo.0o0.ooo/2017/03/23/58d3c9f020b00.png)"
   ]
  },
  {
   "cell_type": "markdown",
   "metadata": {
    "deletable": true,
    "editable": true
   },
   "source": [
    "#### 双端队列\n",
    "在首尾都可以插入,删除的队列\n",
    "抽象数据结构:\n",
    "* D.add_first: 首增加\n",
    "* D.add_last:  尾增加\n",
    "* D.delete_first:首去除\n",
    "* D.delete_last: 尾去除\n",
    "\n",
    "* D.first:返回首元素\n",
    "* D.last: 返回尾元素\n",
    "* D.is_empty:判断是否为空\n",
    "* len(D):返回item数量"
   ]
  },
  {
   "cell_type": "code",
   "execution_count": 52,
   "metadata": {
    "collapsed": false,
    "deletable": true,
    "editable": true
   },
   "outputs": [
    {
     "name": "stdout",
     "output_type": "stream",
     "text": [
      "[2, 1]\n",
      "[1]\n"
     ]
    }
   ],
   "source": [
    "#基于python的list实现的双端队列,大量使用python的语法特性,\n",
    "#list的insert和pop(0)都是O(n)的复杂度,除非实在想不起来了,否则不要这么写\n",
    "class Deque:\n",
    "    def __init__(self):\n",
    "        self.data=[]\n",
    "    def isempty(self):\n",
    "        return not self.data\n",
    "    def add_first(self,item):\n",
    "        self.data.insert(0,item)\n",
    "    def add_last(self,item):\n",
    "        self.data.append(item)\n",
    "    def delete_first(self):\n",
    "        self.data.pop(0)\n",
    "    def delete_last(self):\n",
    "        self.data.pop()\n",
    "    def len(self):\n",
    "        return len(self.data)\n",
    "    def __str__(self):\n",
    "        return str(self.data)\n",
    "d=Deque()\n",
    "d.add_first(1)\n",
    "d.add_first(2)\n",
    "print(d)\n",
    "d.delete_first()\n",
    "print(d)"
   ]
  },
  {
   "cell_type": "markdown",
   "metadata": {
    "deletable": true,
    "editable": true
   },
   "source": [
    "##### 使用循环数组\n",
    "![Screenshot from 2017-03-24 00-07-53.png](https://ooo.0o0.ooo/2017/03/24/58d3f2ecb42e1.png)"
   ]
  },
  {
   "cell_type": "code",
   "execution_count": 50,
   "metadata": {
    "collapsed": false,
    "deletable": true,
    "editable": true
   },
   "outputs": [
    {
     "name": "stdout",
     "output_type": "stream",
     "text": [
      "[None]\n",
      "[1]\n",
      "[1, 2]\n",
      "[2, 1, None, 3]\n",
      "3\n",
      "2\n",
      "1\n"
     ]
    }
   ],
   "source": [
    "#利用数组循环实现的双端队列\n",
    "class DoubleEndedQueues:\n",
    "    DEFAULT_CAPACITY=1\n",
    "    \n",
    "    def __init__(self):\n",
    "        self._data=[None]*self.DEFAULT_CAPACITY\n",
    "        self.front=1\n",
    "        self.count=0\n",
    "        \n",
    "    def add_first(self,item):\n",
    "        if self.count==len(self._data):\n",
    "            self.resize(len(self._data)*2)\n",
    "        self.front=(self.front-1)%len(self._data)\n",
    "        self._data[self.front]=item\n",
    "        self.count+=1\n",
    "        \n",
    "    def add_last(self,item):\n",
    "        if self.count==len(self._data):\n",
    "            self.resize(len(self._data)*2)\n",
    "        back=(self.front+self.count)%len(self._data)\n",
    "        self._data[back]=item\n",
    "        self.count+=1\n",
    "    \n",
    "    def delete_first(self):\n",
    "        if self.count==0:\n",
    "            raise Expention(\"no item\")\n",
    "        item=self._data[self.front]\n",
    "        self._data[self.front]=None\n",
    "        self.front=(self.front+1)%len(self._data)\n",
    "        self.count-=1\n",
    "        return item\n",
    "    \n",
    "    def delete_last(self):\n",
    "        if self.count==0:\n",
    "            raise Empty(\"no item\")\n",
    "        back=(self.front+self.count-1)%len(self._data)\n",
    "        item=self._data[back]\n",
    "        self.count-=1\n",
    "        return item\n",
    "    \n",
    "    def first(self):\n",
    "        if self.count==0:\n",
    "            raise Empty(\"no item\")\n",
    "        item=self._data[self.front]\n",
    "        return item\n",
    "    \n",
    "    def last(self):\n",
    "        if self.count==0:\n",
    "            raise Empty(\"no item\")\n",
    "        back=(self.front+self.count-1)%len(self._data)\n",
    "        item=self._data[back]\n",
    "        return item  \n",
    "    \n",
    "    def is_empty(self):\n",
    "        return self.count==0\n",
    "    \n",
    "    def __len__(self):\n",
    "        return self.count\n",
    "    \n",
    "    def resize(self,size):\n",
    "        data=[None]*size\n",
    "        i=0\n",
    "        while not self.is_empty():\n",
    "            #将元素全部出列,再依次进列,目的是将队首指针设为0\n",
    "            data[i]=self.delete_first()\n",
    "            i+=1\n",
    "        self._data=data\n",
    "        self.count=i\n",
    "        self.front=0\n",
    "            \n",
    "    def __str__(self):\n",
    "        return str(self._data)\n",
    "\n",
    "d=DoubleEndedQueues()\n",
    "print(d)\n",
    "d.add_first(1)\n",
    "print(d)\n",
    "d.add_first(2)\n",
    "print(d)\n",
    "d.add_first(3)\n",
    "print(d)\n",
    "print(d.delete_first())\n",
    "print(d.delete_first())\n",
    "print(d.delete_first())\n",
    "#这是利用数组循环实现的双端队列,print出的顺序与实际顺序是不一致的."
   ]
  }
 ],
 "metadata": {
  "kernelspec": {
   "display_name": "Python 3",
   "language": "python",
   "name": "python3"
  },
  "language_info": {
   "codemirror_mode": {
    "name": "ipython",
    "version": 3
   },
   "file_extension": ".py",
   "mimetype": "text/x-python",
   "name": "python",
   "nbconvert_exporter": "python",
   "pygments_lexer": "ipython3",
   "version": "3.5.2"
  },
  "toc": {
   "colors": {
    "hover_highlight": "#DAA520",
    "running_highlight": "#FF0000",
    "selected_highlight": "#FFD700"
   },
   "moveMenuLeft": true,
   "nav_menu": {
    "height": "139px",
    "width": "252px"
   },
   "navigate_menu": true,
   "number_sections": true,
   "sideBar": true,
   "threshold": 4,
   "toc_cell": false,
   "toc_section_display": "block",
   "toc_window_display": true
  }
 },
 "nbformat": 4,
 "nbformat_minor": 2
}
