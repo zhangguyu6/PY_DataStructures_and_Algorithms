{
 "cells": [
  {
   "cell_type": "markdown",
   "metadata": {},
   "source": [
    "### 排序\n",
    "First, it will be necessary to compare two values to see which is smaller (or larger). In order to sort a collection, it will be necessary to have some systematic way to compare values to see if they are out of order. The total number of comparisons will be the most common way to measure a sort procedure. Second, when values are not in the correct position with respect to one another, it may be necessary to exchange them. This exchange is a costly operation and the total number of exchanges will also be important for evaluating the overall efficiency of the algorithm.\n",
    "排序的共用过程：首先，比较2个值，通常用比较的个数来衡量比较过程；然后，交换不在正确位置的值，交换的过程也是影响比较效率的重要因素。"
   ]
  },
  {
   "cell_type": "markdown",
   "metadata": {},
   "source": [
    "#### 冒泡排序\n",
    "大名鼎鼎的bubble sort  \n",
    "The bubble sort makes multiple passes through a list. It compares adjacent items and exchanges those that are out of order. Each pass through the list places the next largest value in its proper place. In essence, each item “bubbles” up to the location where it belongs.\n",
    "冒泡排序多次遍历一个list，它比较相邻的item，如果不符合顺序就将两者交换；每次遍历后，当前遍历片段最大（最小）的元素交换到了片段的尾部。抽象上，每个item就像气泡一样上浮到它应用的位置。\n",
    "![第一次遍历](http://interactivepython.org/courselib/static/pythonds/_images/bubblepass.png)"
   ]
  },
  {
   "cell_type": "code",
   "execution_count": 1,
   "metadata": {
    "collapsed": false
   },
   "outputs": [
    {
     "name": "stdout",
     "output_type": "stream",
     "text": [
      "[1, 2, 3, 4, 5]\n"
     ]
    }
   ],
   "source": [
    "def  bubbleSort(alist):\n",
    "    for endposnum in range(len(alist)-1,1,-1):\n",
    "        for pos in range(endposnum):\n",
    "            if alist[pos]>alist[pos+1]:\n",
    "                alist[pos+1],alist[pos]=alist[pos],alist[pos+1]\n",
    "a=[1,2,3,5,4]\n",
    "bubbleSort(a)\n",
    "print(a)"
   ]
  },
  {
   "cell_type": "markdown",
   "metadata": {},
   "source": [
    "注意两点：\n",
    "* 在其他语言中，交换语句使用临时变量，或者用异或  \n",
    "```temp = alist[i]\n",
    "alist[i] = alist[j]\n",
    "alist[j] = temp```  \n",
    "而python可以同时赋值\n",
    "![](http://interactivepython.org/courselib/static/pythonds/_images/swap.png)\n",
    "\n",
    "* python函数传递的是对象的引用值，对可变对象相当于引用，对不可变对象相当于传值，因此list在局部作用域中的更改可以影响到全局。"
   ]
  },
  {
   "cell_type": "markdown",
   "metadata": {},
   "source": [
    "复杂度：$O(n^2)$，被认为是最无效率的排序方法  \n",
    "**简短冒泡**:\n",
    "它是传统冒泡的一种改良，如果在一次遍历中没有发生交换，那么余下的list都可以认为是有序的，因此可以省下之后的排序。"
   ]
  },
  {
   "cell_type": "code",
   "execution_count": 2,
   "metadata": {
    "collapsed": false
   },
   "outputs": [
    {
     "name": "stdout",
     "output_type": "stream",
     "text": [
      "[1, 2, 3, 4, 5]\n"
     ]
    }
   ],
   "source": [
    "def shortbubbleSort(alist):\n",
    "    exchange=True\n",
    "    endposnum=len(alist)-1\n",
    "    while endposnum>0 and exchange:\n",
    "        exchange=False\n",
    "        for i in range(endposnum):\n",
    "            if alist[i]>alist[i+1]:\n",
    "                alist[i],alist[i+1]=alist[i+1],alist[i]\n",
    "        endposnum-=1\n",
    "\n",
    "a=[1,2,3,5,4]\n",
    "shortbubbleSort(a)\n",
    "print(a)"
   ]
  },
  {
   "cell_type": "markdown",
   "metadata": {},
   "source": [
    "#### 选择排序（selection sort)\n",
    "The selection sort improves on the bubble sort by making only one exchange for every pass through the list. In order to do this, a selection sort looks for the largest value as it makes a pass and, after completing the pass, places it in the proper location. \n",
    "选择排序是对冒泡排序的改良，它每次遍历只交换一次，将片段中最大的元素与片段的末尾元素交换。\n",
    "![选择排序](http://interactivepython.org/courselib/static/pythonds/_images/selectionsortnew.png)"
   ]
  },
  {
   "cell_type": "code",
   "execution_count": 3,
   "metadata": {
    "collapsed": false
   },
   "outputs": [
    {
     "name": "stdout",
     "output_type": "stream",
     "text": [
      "[1, 2, 3, 4, 5]\n"
     ]
    }
   ],
   "source": [
    "def selectionSort(alist):\n",
    "    for endposnum in range(len(alist),0,-1):\n",
    "        maxpos=0\n",
    "        for pos in range(endposnum):\n",
    "            if alist[pos]>alist[maxpos]:\n",
    "                maxpos=pos\n",
    "        alist[maxpos],alist[endposnum-1]=alist[endposnum-1],alist[maxpos]\n",
    "a=[1,2,3,5,4]\n",
    "selectionSort(a)\n",
    "print(a)"
   ]
  },
  {
   "cell_type": "code",
   "execution_count": 4,
   "metadata": {
    "collapsed": false
   },
   "outputs": [
    {
     "name": "stdout",
     "output_type": "stream",
     "text": [
      "[1, 2, 3, 4, 5]\n"
     ]
    }
   ],
   "source": [
    "#每次从list片段中找到最小的元素，与首部交换\n",
    "def selectionSort2(alist):\n",
    "    for stpos in range(len(alist)):\n",
    "        minpos=stpos\n",
    "        for pos in range(stpos,len(alist)):\n",
    "            if alist[pos]<alist[minpos]:\n",
    "                minpos=pos\n",
    "        alist[minpos],alist[stpos]=alist[stpos],alist[minpos]\n",
    "a=[1,2,3,5,4]\n",
    "selectionSort(a)\n",
    "print(a)"
   ]
  },
  {
   "cell_type": "markdown",
   "metadata": {},
   "source": [
    "复杂度：$O(n^2)$,但交换次数远小于冒泡排序"
   ]
  },
  {
   "cell_type": "markdown",
   "metadata": {},
   "source": [
    "#### 插入排序（ insertion sort）\n",
    " It always maintains a sorted sublist in the lower positions of the list. Each new item is then “inserted” back into the previous sublist such that the sorted sublist is one item larger.\n",
    " 先假设每一个新元素左边的子列都是排好序的，新元素从右到左与子列比较，小于子列则相互交换。\n",
    " ![](http://interactivepython.org/courselib/static/pythonds/_images/insertionpass.png)"
   ]
  },
  {
   "cell_type": "code",
   "execution_count": 5,
   "metadata": {
    "collapsed": false
   },
   "outputs": [
    {
     "name": "stdout",
     "output_type": "stream",
     "text": [
      "[1, 2, 3, 5, 10]\n"
     ]
    }
   ],
   "source": [
    "#交换法\n",
    "def insertionSort(alist):\n",
    "    for curpos in range(len(alist)):\n",
    "        for pos in range(curpos,0,-1):\n",
    "            if alist[pos]<alist[pos-1]:\n",
    "                alist[pos],alist[pos-1]=alist[pos-1],alist[pos]\n",
    "            else:\n",
    "                break\n",
    "a=[1,10,3,5,2]\n",
    "insertionSort(a)\n",
    "print(a)"
   ]
  },
  {
   "cell_type": "code",
   "execution_count": 6,
   "metadata": {
    "collapsed": false
   },
   "outputs": [
    {
     "name": "stdout",
     "output_type": "stream",
     "text": [
      "[1, 2, 3, 5, 10]\n"
     ]
    }
   ],
   "source": [
    "#空位法\n",
    "def insertionSort2(alist):\n",
    "    for curpos in range(len(alist)):\n",
    "        pos=curpos\n",
    "        curval=alist[curpos]\n",
    "        while pos >0 and alist[pos-1]>curval:\n",
    "            #移位操作，将pos-1位空出\n",
    "            alist[pos]=alist[pos-1]\n",
    "            pos-=1\n",
    "        alist[pos]=curval\n",
    "a=[1,10,3,5,2]\n",
    "insertionSort2(a)\n",
    "print(a)"
   ]
  },
  {
   "cell_type": "markdown",
   "metadata": {},
   "source": [
    "复杂度$O(n^2)$，但在最好的情况下每次遍历只需要比较一次，特别适用于两个有序数组的合并，一个部分有序数组排序等情况。"
   ]
  },
  {
   "cell_type": "markdown",
   "metadata": {},
   "source": [
    "#### 希尔排序（The Shell Sort）\n",
    "又称减小增量排序（diminishing increment sort）\n",
    "improves on the insertion sort by breaking the original list into a number of smaller sublists, each of which is sorted using an insertion sort. The unique way that these sublists are chosen is the key to the shell sort. Instead of breaking the list into sublists of contiguous items, the shell sort uses an increment i, sometimes called the gap, to create a sublist by choosing all items that are i items apart.\n",
    "希尔排序是插入排序的一种改良，它是把原来的list分成一堆子列，每列进行插入排序，核心是子列如何划分——增量i的选择。\n",
    "![](http://interactivepython.org/courselib/static/pythonds/_images/shellsortB.png)"
   ]
  },
  {
   "cell_type": "code",
   "execution_count": 7,
   "metadata": {
    "collapsed": false
   },
   "outputs": [
    {
     "name": "stdout",
     "output_type": "stream",
     "text": [
      "[1, 2, 3, 5, 10]\n"
     ]
    }
   ],
   "source": [
    "def shellSort(alist):\n",
    "    sublistcount=1\n",
    "    #增量构造\n",
    "    while 3*sublistcount+1<len(alist):\n",
    "        sublistcount=sublistcount*3+1\n",
    "    #对每个增量进行插入排序\n",
    "    while sublistcount>0:\n",
    "        for curpos in range(sublistcount*2,len(alist),sublistcount):\n",
    "            for pos in range(curpos,sublistcount,-sublistcount):\n",
    "                if alist[pos]<alist[pos-sublistcount]:\n",
    "                    alist[pos],alist[pos-sublistcount]=alist[pos-sublistcount], alist[pos]\n",
    "                else:\n",
    "                    break\n",
    "        sublistcount=(sublistcount-1)//3\n",
    "a=[1,10,3,5,2]\n",
    "shellSort(a)\n",
    "print(a)"
   ]
  },
  {
   "cell_type": "markdown",
   "metadata": {},
   "source": [
    "复杂度在$O(n^2)$与$O(n)$之间"
   ]
  },
  {
   "cell_type": "markdown",
   "metadata": {},
   "source": [
    "#### 合并排序（the merge sort）\n",
    "Merge sort is a recursive algorithm that continually splits a list in half. If the list is empty or has one item, it is sorted by definition (the base case).If the list has more than one item, we split the list and recursively invoke a merge sort on both halves.nce the two halves are sorted, the fundamental operation, called a merge, is performed. Merging is the process of taking two smaller sorted lists and combining them together into a single, sorted, new list. \n",
    "1. 基例 如果list是空的，或者只有一个元素，直接返回\n",
    "2. list长度大于1，划分为2个list，分别排序\n",
    "3. 按顺序合并两个list  \n",
    "**合并排序是典型的分治策略，可以使用递归**\n",
    "![](http://interactivepython.org/courselib/static/pythonds/_images/mergesortA.png)\n",
    "![](http://interactivepython.org/courselib/static/pythonds/_images/mergesortB.png)"
   ]
  },
  {
   "cell_type": "code",
   "execution_count": 8,
   "metadata": {
    "collapsed": false
   },
   "outputs": [
    {
     "name": "stdout",
     "output_type": "stream",
     "text": [
      "[1, 2, 3, 5, 10]\n"
     ]
    }
   ],
   "source": [
    "#需要大量新建数组，消耗极大\n",
    "def mergeSort(alist):\n",
    "    if len(alist)<=1:\n",
    "        return alist\n",
    "    else:\n",
    "        left=mergeSort(alist[:len(alist)//2])\n",
    "        right=mergeSort(alist[len(alist)//2:])\n",
    "        result=[]\n",
    "        while left and right:\n",
    "            if left[-1]>right[-1]:\n",
    "                result=[left.pop()]+result\n",
    "            else:\n",
    "                result=[right.pop()]+result\n",
    "        if left:\n",
    "            result=left+result\n",
    "        else:\n",
    "            result=right+result\n",
    "        return result \n",
    "a=[1,10,3,5,2]\n",
    "a=mergeSort(a)\n",
    "print(a)"
   ]
  },
  {
   "cell_type": "code",
   "execution_count": 23,
   "metadata": {
    "collapsed": false
   },
   "outputs": [
    {
     "name": "stdout",
     "output_type": "stream",
     "text": [
      "[1, 2, 3, 5, 10]\n"
     ]
    }
   ],
   "source": [
    "#参考算法4的自顶而下的原地归并，遵从python切片的习惯：左包右不包\n",
    "def mergeSort2(alist):\n",
    "    def helpSort(lo,hi):\n",
    "        if hi-lo<=1:\n",
    "            return\n",
    "        else:\n",
    "            mid=(lo+hi)//2\n",
    "            helpSort(lo,mid)\n",
    "            helpSort(mid,hi)\n",
    "            merge(lo,mid,hi)\n",
    "    #原地合并方法    \n",
    "    def merge(lo,mid,hi):\n",
    "        #每次合并前，浅拷贝alist，因为alist在每次合并中都会发生改变\n",
    "        aux=alist[:]\n",
    "        lpoint=lo\n",
    "        rpoint=mid\n",
    "        for pos in range(lo,hi):\n",
    "            #左子列耗尽就把右子列全加上\n",
    "            if lpoint >=mid:\n",
    "                alist[pos]=aux[rpoint]\n",
    "                rpoint+=1\n",
    "            #右子列耗尽就把左子列全加上\n",
    "            elif rpoint>=hi:\n",
    "                alist[pos]=aux[lpoint]\n",
    "                lpoint+=1\n",
    "            elif aux[lpoint]<aux[rpoint]:\n",
    "                alist[pos]=aux[lpoint]\n",
    "                lpoint+=1\n",
    "            else:\n",
    "                alist[pos]=aux[rpoint]\n",
    "                rpoint+=1\n",
    "    lo=0\n",
    "    hi=len(alist)\n",
    "    helpSort(lo,hi)\n",
    "\n",
    "a=[1,10,3,5,2]               \n",
    "mergeSort2(a)\n",
    "print(a)                  "
   ]
  },
  {
   "cell_type": "markdown",
   "metadata": {},
   "source": [
    "原地合并方法的复杂度$O(nlogn)$,分片的操作复杂度是$O(K)$并且需要额外的空间，这在list很大的情况下是一个关键因素。"
   ]
  },
  {
   "cell_type": "markdown",
   "metadata": {},
   "source": [
    "#### 快排（The Quick Sort）\n",
    "The quick sort uses divide and conquer to gain the same advantages as the merge sort, while not using additional storage. \n",
    "快排也使用分治策略，但不需要额外的内存  \n",
    "快排的基本思想是随机选取一个数(pivot value)，比它小的放在它左边，比它大的放在它右边，这样每次遍历就能确定一个数的位置(split point)，递归左子列和右子列，最终得到全部值。"
   ]
  },
  {
   "cell_type": "code",
   "execution_count": 32,
   "metadata": {
    "collapsed": false
   },
   "outputs": [
    {
     "name": "stdout",
     "output_type": "stream",
     "text": [
      "[1, 2, 3, 5, 10]\n"
     ]
    }
   ],
   "source": [
    "#快排的原型实现，使用了list解析，需要额外的空间\n",
    "def quickSort(alist):\n",
    "    if len(alist)<=1:\n",
    "        return alist\n",
    "    #选第一个元素作主元\n",
    "    pivot=alist[0]\n",
    "    return quickSort([i for i in alist[1:] if i <pivot])+[pivot]+quickSort([i for i in alist[1:] if i >=pivot])\n",
    "\n",
    "a=[1,10,3,5,2]               \n",
    "a=quickSort(a)\n",
    "print(a) "
   ]
  },
  {
   "cell_type": "markdown",
   "metadata": {},
   "source": [
    "##### 单索引快排\n",
    "首先，让i指向要排序的数组的第一个元素的前面，p和j都指向第一个元素；  \n",
    "然后，一直移动j直到主元前一个位置，一旦发现一个小于主元的元素就让i指向它的下一个位置，然后交换i和j对应位置上的元素。这样一定是可行的，因为i一直都是指向已发现的小于主元的元素中的最后一个，从i+1开始就大于主元了(或者还未确定/未处理)，而j一直都是指向大于主元的元素中最后一个的后面一个位置，所以i+1和j位置上的元素交换就可以使得j发现的这个小于主元的元素移动到第一部分，而i+1位置上大于主元的元素移动到j的位置上，即第二部分的最后一个位置上。\n",
    "![](https://hujiaweibujidao.github.io/images/quicksort_cn.png)"
   ]
  },
  {
   "cell_type": "code",
   "execution_count": 35,
   "metadata": {
    "collapsed": false
   },
   "outputs": [
    {
     "name": "stdout",
     "output_type": "stream",
     "text": [
      "[1, 2, 3, 5, 10]\n"
     ]
    }
   ],
   "source": [
    "#单索引的快排法\n",
    "def quickSort1(alist):\n",
    "    def helpSort(lo,hi):\n",
    "        if hi-lo<=1:\n",
    "            return\n",
    "        #确定主元\n",
    "        pivot=alist[lo]\n",
    "        #索引永远指向小于主元的最后一个元素的下一位，即index数字最小的大于主元的元素\n",
    "        i=lo+1\n",
    "        for j in range(lo+1,hi):\n",
    "            if alist[j]<pivot:\n",
    "                #小于主元的元素与索引交换\n",
    "                alist[i],alist[j]=alist[j],alist[i]\n",
    "                i+=1\n",
    "        #把主元与index最大的小于主元的元素交换，这样主元右边都是比它小的元素\n",
    "        alist[lo],alist[i-1]=alist[i-1],alist[lo]\n",
    "        helpSort(lo,i-1)\n",
    "        helpSort(i,hi)\n",
    "        \n",
    "    lo=0\n",
    "    hi=len(alist)\n",
    "    return helpSort(lo,hi)\n",
    "    \n",
    "a=[1,10,3,5,2]               \n",
    "quickSort1(a)\n",
    "print(a)     "
   ]
  },
  {
   "cell_type": "markdown",
   "metadata": {},
   "source": [
    "##### 双索引的快排法\n",
    "1. 选择第一个元素都为主元\n",
    "2. 一个leftmark指向主元的后面一个位置，另一个rightmark指向要排序的数组最后一个元素；接着，两个指针分别向中间移动，leftmark遇到比主元大的元素停止，rightmark遇到比主元小的元素停止，如果此时leftmark\\<rightmark，也就是说中间还有未处理(未确定与主元大小关系)的元素，那么就交换leftmark和rightmark位置上的元素，然后重复刚才的移动操作，直到rightmark\\<leftmark\n",
    "3. 最后，停止移动时候rightmark就是主元要放置的位置，因为它停在一个比主元小的元素的位置上，之后交换主元和rightmark指向的元素即可。\n",
    "4. 递归地对主元左右两边的子列进行排序即可。\n",
    "![](http://interactivepython.org/courselib/static/pythonds/_images/partitionA.png)"
   ]
  },
  {
   "cell_type": "code",
   "execution_count": 36,
   "metadata": {
    "collapsed": false
   },
   "outputs": [
    {
     "name": "stdout",
     "output_type": "stream",
     "text": [
      "[1, 2, 3, 5, 10]\n"
     ]
    }
   ],
   "source": [
    "#双索引快排\n",
    "def quickSort2(alist):\n",
    "    def helpSort(lo,hi):\n",
    "        leftmark=lo+1\n",
    "        rightmark=hi-1\n",
    "        pivot=alist[lo]\n",
    "        while leftmark > rightmark:\n",
    "            #确保leftmark不会越过边界\n",
    "            while alist[leftmark]< pivot and leftmark <hi-1:\n",
    "                leftmark+=1\n",
    "            while alist[rightmark]>pivot and rightmark>lo:\n",
    "                rightmark-=1\n",
    "            alist[leftmark],alist[rightmark]=alist[rightmark],alist[leftmark]\n",
    "        #主元与index最大的比它小的元素交换\n",
    "        alist[lo],alist[rightmark]=alist[rightmark],alist[lo]\n",
    "        helpSort(lo,rightmark)\n",
    "        helpSort(rightmark+1,hi)\n",
    "    lo=0\n",
    "    hi=len(alist)\n",
    "    return helpSort(lo,hi)\n",
    "\n",
    "a=[1,10,3,5,2]               \n",
    "quickSort1(a)\n",
    "print(a)  "
   ]
  },
  {
   "cell_type": "code",
   "execution_count": null,
   "metadata": {
    "collapsed": true
   },
   "outputs": [],
   "source": []
  }
 ],
 "metadata": {
  "kernelspec": {
   "display_name": "Python 3",
   "language": "python",
   "name": "python3"
  },
  "language_info": {
   "codemirror_mode": {
    "name": "ipython",
    "version": 3
   },
   "file_extension": ".py",
   "mimetype": "text/x-python",
   "name": "python",
   "nbconvert_exporter": "python",
   "pygments_lexer": "ipython3",
   "version": "3.5.2"
  },
  "toc": {
   "colors": {
    "hover_highlight": "#DAA520",
    "running_highlight": "#FF0000",
    "selected_highlight": "#FFD700"
   },
   "moveMenuLeft": true,
   "nav_menu": {
    "height": "175px",
    "width": "252px"
   },
   "navigate_menu": true,
   "number_sections": true,
   "sideBar": true,
   "threshold": 4,
   "toc_cell": false,
   "toc_section_display": "block",
   "toc_window_display": false
  }
 },
 "nbformat": 4,
 "nbformat_minor": 2
}
