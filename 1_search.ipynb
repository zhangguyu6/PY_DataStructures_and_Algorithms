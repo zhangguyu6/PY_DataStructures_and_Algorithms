{
 "cells": [
  {
   "cell_type": "markdown",
   "metadata": {
    "deletable": true,
    "editable": true
   },
   "source": [
    "### 常用搜索方法"
   ]
  },
  {
   "cell_type": "markdown",
   "metadata": {
    "deletable": true,
    "editable": true
   },
   "source": [
    "#### 顺序搜索"
   ]
  },
  {
   "cell_type": "markdown",
   "metadata": {
    "deletable": true,
    "editable": true
   },
   "source": [
    "Starting at the first item in the list, we simply move from item to item, following the underlying \n",
    "sequential ordering until we either find what we are looking for or run out of items. \n",
    "If we run out of items, we have discovered that the item we were searching for was not present.\n",
    "从第一个元素开始，沿着下标以此搜索，直到跳出边界"
   ]
  },
  {
   "cell_type": "markdown",
   "metadata": {
    "deletable": true,
    "editable": true
   },
   "source": [
    "![顺序搜索](http://interactivepython.org/courselib/static/pythonds/_images/seqsearch.png)"
   ]
  },
  {
   "cell_type": "code",
   "execution_count": 1,
   "metadata": {
    "collapsed": false,
    "deletable": true,
    "editable": true
   },
   "outputs": [
    {
     "name": "stdout",
     "output_type": "stream",
     "text": [
      "True\n",
      "False\n"
     ]
    }
   ],
   "source": [
    "def sequentialSearch(alist,item):\n",
    "    pos=0\n",
    "    finditem=False\n",
    "    while pos<len(alist):\n",
    "        if alist[pos]==item:\n",
    "            finditem=True\n",
    "        pos+=1\n",
    "    return finditem\n",
    "print(sequentialSearch([1,2,3,4],3))\n",
    "print(sequentialSearch([1,2,3,4],5))"
   ]
  },
  {
   "cell_type": "markdown",
   "metadata": {
    "collapsed": true,
    "deletable": true,
    "editable": true
   },
   "source": [
    "元素在内 ：最好 1 ；最坏 n；平均 n/2\n",
    "元素不在内 ：最好 n ；最坏 n；平均 n"
   ]
  },
  {
   "cell_type": "markdown",
   "metadata": {
    "deletable": true,
    "editable": true
   },
   "source": [
    "##### 有序数组的顺序搜索"
   ]
  },
  {
   "cell_type": "markdown",
   "metadata": {
    "deletable": true,
    "editable": true
   },
   "source": [
    "Assume that the list of items was constructed so that the items were in ascending order, from low to high. If the item we are looking for is present in the list, the chance of it being in any one of the n positions is still the same as before. However, if the item is not present there is a slight advantage. \n",
    "有序情况下，可以跳过搜索。\n",
    "![有序数组的顺序搜索](http://interactivepython.org/courselib/static/pythonds/_images/seqsearch2.png)"
   ]
  },
  {
   "cell_type": "code",
   "execution_count": 2,
   "metadata": {
    "collapsed": false,
    "deletable": true,
    "editable": true
   },
   "outputs": [
    {
     "name": "stdout",
     "output_type": "stream",
     "text": [
      "True\n",
      "False\n"
     ]
    }
   ],
   "source": [
    "def sequentialSearch2(alist,item):\n",
    "    pos=0\n",
    "    finditem=False\n",
    "    while pos <len(alist):\n",
    "        if alist[pos]==item:\n",
    "            finditem=True\n",
    "        #若当前元素大于目标，由于数组已经排序，所以后续元素必然大于当前元素，直接返回\n",
    "        elif alist[pos]>item:\n",
    "            break\n",
    "        pos+=1\n",
    "    return finditem\n",
    "print(sequentialSearch2([1,2,3,4],3))\n",
    "print(sequentialSearch2([1,2,3,4],5))"
   ]
  },
  {
   "cell_type": "markdown",
   "metadata": {
    "deletable": true,
    "editable": true
   },
   "source": [
    "元素在内 ：最好 1 ；最坏 n；平均 n/2\n",
    "元素不在内 ：最好 1 ；最坏 n；平均 n/2"
   ]
  },
  {
   "cell_type": "markdown",
   "metadata": {
    "deletable": true,
    "editable": true
   },
   "source": [
    "#### 二分法查找"
   ]
  },
  {
   "cell_type": "markdown",
   "metadata": {
    "deletable": true,
    "editable": true
   },
   "source": [
    " a binary search will start by examining the middle item. If that item is the one we are searching for, we are done. If it is not the correct item, we can use the ordered nature of the list to eliminate half of the remaining items. If the item we are searching for is greater than the middle item, we know that the entire lower half of the list as well as the middle item can be eliminated from further consideration. The item, if it is in the list, must be in the upper half.\n",
    " 二分法从检查中间的元素开始，如果目标元素大于中间的元素，我们搜索后一半，否则我们搜索前一半。\n",
    "![二分法](http://interactivepython.org/courselib/static/pythonds/_images/binsearch.png)"
   ]
  },
  {
   "cell_type": "code",
   "execution_count": 3,
   "metadata": {
    "collapsed": false,
    "deletable": true,
    "editable": true
   },
   "outputs": [
    {
     "name": "stdout",
     "output_type": "stream",
     "text": [
      "True\n",
      "True\n"
     ]
    }
   ],
   "source": [
    "def binarySearch(alist, item):\n",
    "    lo=0\n",
    "    hi=len(alist)-1\n",
    "    found=item\n",
    "    # lo=hi 是为了考虑length=1的情况，加入not found防止=0时死循环\n",
    "    while lo<=hi and not found:\n",
    "        mid=(lo+hi)//2\n",
    "        if alist[mid]==item:\n",
    "            found=True\n",
    "        elif alist[mid]>item:\n",
    "            lo=mid+1\n",
    "        elif alist[mid]<item:\n",
    "            hi=mid-1\n",
    "    return found\n",
    "print(sequentialSearch2([1,2,3,4],3))\n",
    "print(sequentialSearch2([3],3)) "
   ]
  },
  {
   "cell_type": "markdown",
   "metadata": {
    "deletable": true,
    "editable": true
   },
   "source": [
    "运用divide and conquer strategy,递归实现的二分法"
   ]
  },
  {
   "cell_type": "code",
   "execution_count": 4,
   "metadata": {
    "collapsed": false,
    "deletable": true,
    "editable": true
   },
   "outputs": [
    {
     "name": "stdout",
     "output_type": "stream",
     "text": [
      "True\n",
      "True\n"
     ]
    }
   ],
   "source": [
    "def binarySearch2(alist, item):\n",
    "    if len(alist)==0:\n",
    "        return False\n",
    "    else:\n",
    "        mid=len(alist)//2\n",
    "        if alist[mid]==item:\n",
    "            return True\n",
    "        elif alist[mid]>item:\n",
    "            #小于mid，搜索前半部分\n",
    "            return binarySearch2(alist[:mid],item)\n",
    "        else:\n",
    "            #小于mid，搜索前半部分\n",
    "            return binarySearch2(alist[mid+1:],item)\n",
    "print(sequentialSearch2([1,2,3,4],3))\n",
    "print(sequentialSearch2([3],3)) "
   ]
  },
  {
   "cell_type": "markdown",
   "metadata": {
    "deletable": true,
    "editable": true
   },
   "source": [
    "算法复杂度 O(logn)\n",
    "需要注意的是，在binarySearch2中，我们在递归中使用了切片，在python中这是O（k）级别的操作，会大幅影响与运行时间。`"
   ]
  },
  {
   "cell_type": "markdown",
   "metadata": {
    "deletable": true,
    "editable": true
   },
   "source": [
    "使用index而非切片的二分法实现"
   ]
  },
  {
   "cell_type": "code",
   "execution_count": 5,
   "metadata": {
    "collapsed": false,
    "deletable": true,
    "editable": true
   },
   "outputs": [
    {
     "name": "stdout",
     "output_type": "stream",
     "text": [
      "True\n",
      "False\n"
     ]
    }
   ],
   "source": [
    "class binarySearch3:\n",
    "    def __init__(self,alist,item):\n",
    "        self.alist=alist\n",
    "        self.item=item\n",
    "    def binarySearch(self):\n",
    "        return self._binarySearch(0,len(self.alist))\n",
    "    def _binarySearch(self,lo,hi):\n",
    "        mid=(lo+hi)//2\n",
    "        if lo>hi:\n",
    "            return False\n",
    "        elif self.alist[mid]==self.item:\n",
    "            return True\n",
    "        elif self.alist[mid]>self.item:\n",
    "            return self._binarySearch(lo,mid-1)\n",
    "        else:\n",
    "            return self._binarySearch(mid+1,hi)\n",
    "    \n",
    "b=binarySearch3([1,2,3,4],4)\n",
    "print(b.binarySearch())\n",
    "b=binarySearch3([4],3)\n",
    "print(b.binarySearch())"
   ]
  },
  {
   "cell_type": "markdown",
   "metadata": {
    "deletable": true,
    "editable": true
   },
   "source": [
    "#### hashing 哈希表 O（1）的计算复杂度"
   ]
  },
  {
   "cell_type": "markdown",
   "metadata": {
    "deletable": true,
    "editable": true
   },
   "source": [
    "A hash table is a collection of items which are stored in such a way as to make it easy to find them later. Each position of the hash table, often called a slot, can hold an item and is named by an integer value starting at 0.  哈希表是一堆插槽的集合，每个插槽含有一个item，并按顺序编号。\n",
    "![哈希表](http://interactivepython.org/courselib/static/pythonds/_images/hashtable.png)"
   ]
  },
  {
   "cell_type": "markdown",
   "metadata": {
    "deletable": true,
    "editable": true
   },
   "source": [
    "哈希函数在item和插槽之间建立映射，我们假设item是整数，哈希函数是取余，h(item)=item%11，那么映射如下：\n",
    "\n",
    "|Item\t|Hash Value|\n",
    "|:-------:|:---------:|\n",
    "|54\t|10|\n",
    "|26\t|4|\n",
    "|93\t|5|\n",
    "|17\t|6|\n",
    "|77\t|0|\n",
    "|31\t|9|\n",
    "散列表的载荷因子为它的填充度\n",
    "![散列表的载荷因子](http://interactivepython.org/courselib/static/pythonds/_images/hashtable2.png)\n",
    "为6/11\n",
    "搜索的时间不随规模而变化，为常数"
   ]
  },
  {
   "cell_type": "markdown",
   "metadata": {
    "deletable": true,
    "editable": true
   },
   "source": [
    "哈希函数的设置是哈希表的关键，当哈希函数对不同的item产生了相同的值，称作hash碰撞，\n",
    "hash(item1)=hash(item2)"
   ]
  },
  {
   "cell_type": "markdown",
   "metadata": {
    "deletable": true,
    "editable": true
   },
   "source": [
    "##### 常用的hash函数：\n",
    "* folding method（折叠法）把“436-555-4601” 2个分组变为43,65,55,46,01，再相加得到210，210%11=1，所有“436-555-4601”指向slot 1，本质上相当于把item缩小，减少碰撞的概率。\n",
    "* mid-square method(半平方法）先平方，再于中取部分数字，最后取余。如“44”->“44\\*44“ ->\"1936\"->\"93”->93%11"
   ]
  },
  {
   "cell_type": "markdown",
   "metadata": {
    "deletable": true,
    "editable": true
   },
   "source": [
    "对于字符串，先求其ordinal values，再相加取余。\n",
    "![字符串](http://interactivepython.org/courselib/static/pythonds/_images/stringhash.png)"
   ]
  },
  {
   "cell_type": "code",
   "execution_count": 6,
   "metadata": {
    "collapsed": false,
    "deletable": true,
    "editable": true
   },
   "outputs": [
    {
     "name": "stdout",
     "output_type": "stream",
     "text": [
      "4\n"
     ]
    }
   ],
   "source": [
    "def hash(astring,tablesize):\n",
    "    sum=0\n",
    "    for pos in range(len(astring)):\n",
    "        sum+=ord(astring[pos])\n",
    "    return sum%tablesize\n",
    "print(hash(\"cat\",11))"
   ]
  },
  {
   "cell_type": "markdown",
   "metadata": {
    "deletable": true,
    "editable": true
   },
   "source": [
    "但是，这种方法有一个问题，对于同一字符数组的不同排列总是返回相同的值。\n",
    "改进是根据位置增加权重\n",
    "![改进](http://interactivepython.org/courselib/static/pythonds/_images/stringhash2.png)"
   ]
  },
  {
   "cell_type": "code",
   "execution_count": 7,
   "metadata": {
    "collapsed": false,
    "deletable": true,
    "editable": true
   },
   "outputs": [
    {
     "name": "stdout",
     "output_type": "stream",
     "text": [
      "3\n"
     ]
    }
   ],
   "source": [
    "def hash2(astring,tablesize):\n",
    "    sum=0\n",
    "    for pos in range(len(astring)):\n",
    "        sum+=ord(astring[pos])*(pos+1)\n",
    "    return sum%tablesize\n",
    "print(hash2(\"cat\",11))"
   ]
  },
  {
   "cell_type": "markdown",
   "metadata": {
    "deletable": true,
    "editable": true
   },
   "source": [
    "##### 碰撞解决办法 （collision resolution）\n"
   ]
  },
  {
   "cell_type": "markdown",
   "metadata": {
    "deletable": true,
    "editable": true
   },
   "source": [
    "###### 开放地址法\n",
    "A simple way to do this is to start at the original hash value position and then move in a sequential manner through the slots until we encounter the first slot that is empty.  \n",
    "沿slot下标寻找空slot，插入item  \n",
    " 20%11=9  \n",
    " 31%11=9  \n",
    " 冲突,因此20进行线性探测（linear probing），从9开始找空位，遍历10,0,1,2,找到了3\n",
    "![冲突](http://interactivepython.org/courselib/static/pythonds/_images/linearprobing1.png)"
   ]
  },
  {
   "cell_type": "markdown",
   "metadata": {
    "deletable": true,
    "editable": true
   },
   "source": [
    "这种方法的缺陷是可能发生聚类clustering，在相同的hash value发生多起冲突，大量相邻的slot被填满![clustering](http://interactivepython.org/courselib/static/pythonds/_images/clustering.png)"
   ]
  },
  {
   "cell_type": "markdown",
   "metadata": {
    "deletable": true,
    "editable": true
   },
   "source": [
    "解决聚类的方法，再哈希（rehashing），在线性探测（linear probing）进行跳跃，即隔几位进行查找。  \n",
    "rehash(pos)=(pos+skip)%sizeoftable  \n",
    "简单的线性中skip为1  \n",
    "rehashing中skip大于1，注意：hash表的尺寸最好为质数，以免空间被浪费。\n"
   ]
  },
  {
   "cell_type": "markdown",
   "metadata": {
    "deletable": true,
    "editable": true
   },
   "source": [
    "###### 平方探测法 ( Quadratic Probing )\n",
    "线性探测的变种，区别是skip不是常数，而是递增的常数的平方"
   ]
  },
  {
   "cell_type": "markdown",
   "metadata": {
    "deletable": true,
    "editable": true
   },
   "source": [
    "###### 链接法（Chaining）\n",
    "当冲突发生时，维持一个链表指向冲突的slot\n",
    "![链接法](http://interactivepython.org/courselib/static/pythonds/_images/chaining.png)"
   ]
  },
  {
   "cell_type": "markdown",
   "metadata": {
    "deletable": true,
    "editable": true
   },
   "source": [
    "#### 哈希表的实现\n",
    "* Map()       由两个list，一个存储key，一个存储value实现\n",
    "* put(key,val) __setitem__\n",
    "* get(key)     __getitem__\n",
    "* del          __delitem__\n",
    "* len()        __len__\n",
    "* in           __contain__"
   ]
  },
  {
   "cell_type": "code",
   "execution_count": 11,
   "metadata": {
    "collapsed": false,
    "deletable": true,
    "editable": true
   },
   "outputs": [
    {
     "name": "stdout",
     "output_type": "stream",
     "text": [
      "a\n",
      "11\n",
      "True\n",
      "False\n"
     ]
    }
   ],
   "source": [
    "class Hashtable:\n",
    "    def __init__(self):\n",
    "        self.size=11\n",
    "        #存储key\n",
    "        self.slots=[None] * self.size\n",
    "        #存储value\n",
    "        self.data=[None] * self.size\n",
    "        \n",
    "    def hashfunc(self,key):\n",
    "        return key % self.size\n",
    "    \n",
    "    def rehash(self,oldhash,skip):\n",
    "        return (oldhash+skip) % self.size\n",
    "        \n",
    "    def put(self,key,val):\n",
    "        index=self.hashfunc(key)\n",
    "        if not self.slots[index]:\n",
    "            self.slots[index]=key\n",
    "            self.data[index]=val\n",
    "        else:\n",
    "            if self.slots[index]==key:\n",
    "                self.data[index]=val\n",
    "            else:\n",
    "                newindex=self.rehash(index,1)\n",
    "                #发现空位或者遍历一周\n",
    "                while not self.slots[newindex] and newindex!=index:\n",
    "                    newindex=self.rehash(index,1)\n",
    "                if self.slots[newindex]==None:\n",
    "                    self.slots[newindex]=key\n",
    "                    self.data[newindex]=val\n",
    "                else:\n",
    "                    raise Exception(\"zoom is not enough\")\n",
    "                    \n",
    "    def get(self,key):\n",
    "        startindex=self.hashfunc(key)\n",
    "        if self.slots[startindex]==key:\n",
    "            return self.data[startindex]\n",
    "        index=self.rehash(startindex,1)\n",
    "        while self.slots[index] !=key and index !=startindex:\n",
    "            index=self.rehash(index,1)\n",
    "        if self.slots[index]==key:\n",
    "            return self.data[index]\n",
    "        else:\n",
    "            raise Exception(\"can not find\")\n",
    "            \n",
    "    def __setitem__(self,key,val):\n",
    "        return self.put(key,val)\n",
    "    \n",
    "    def __getitem__(self,key):\n",
    "        return self.get(key)\n",
    "    \n",
    "    def __len__(self):\n",
    "        return self.size\n",
    "    \n",
    "    def __contains__(self,key):\n",
    "        try:\n",
    "            self.get(key)\n",
    "        except:\n",
    "            return False\n",
    "        return True\n",
    "a=Hashtable()\n",
    "a[1]=\"a\"\n",
    "print(a[1])\n",
    "print(len(a))\n",
    "print(1 in a)\n",
    "print(2 in a)"
   ]
  },
  {
   "cell_type": "code",
   "execution_count": null,
   "metadata": {
    "collapsed": true,
    "deletable": true,
    "editable": true
   },
   "outputs": [],
   "source": []
  },
  {
   "cell_type": "code",
   "execution_count": null,
   "metadata": {
    "collapsed": true,
    "deletable": true,
    "editable": true
   },
   "outputs": [],
   "source": []
  }
 ],
 "metadata": {
  "kernelspec": {
   "display_name": "Python 3",
   "language": "python",
   "name": "python3"
  },
  "language_info": {
   "codemirror_mode": {
    "name": "ipython",
    "version": 3
   },
   "file_extension": ".py",
   "mimetype": "text/x-python",
   "name": "python",
   "nbconvert_exporter": "python",
   "pygments_lexer": "ipython3",
   "version": "3.5.2"
  },
  "toc": {
   "colors": {
    "hover_highlight": "#DAA520",
    "running_highlight": "#FF0000",
    "selected_highlight": "#FFD700"
   },
   "moveMenuLeft": true,
   "nav_menu": {
    "height": "12px",
    "width": "252px"
   },
   "navigate_menu": true,
   "number_sections": true,
   "sideBar": true,
   "threshold": 4,
   "toc_cell": false,
   "toc_section_display": "block",
   "toc_window_display": false
  }
 },
 "nbformat": 4,
 "nbformat_minor": 2
}
